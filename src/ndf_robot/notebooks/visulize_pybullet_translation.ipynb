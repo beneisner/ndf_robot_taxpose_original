{
 "cells": [
  {
   "cell_type": "code",
   "execution_count": null,
   "id": "4fc347fe",
   "metadata": {},
   "outputs": [],
   "source": [
    "import sys\n",
    "import os\n",
    "import torch\n",
    "\n",
    "os.environ['CUDA_DEVICE_ORDER']='PCI_BUS_ID'\n",
    "os.environ['CUDA_VISIBLE_DEVICES']='0'\n",
    "\n",
    "import numpy as np\n",
    "import plotly.graph_objects as go\n",
    "from pytorch3d.ops import sample_farthest_points"
   ]
  },
  {
   "cell_type": "code",
   "execution_count": null,
   "id": "a22f1aa6",
   "metadata": {},
   "outputs": [],
   "source": [
    "def toDisplay(x, target_dim = 2):\n",
    "    while(x.dim() > target_dim):\n",
    "        x = x[0]\n",
    "    return x.detach().cpu().numpy()"
   ]
  },
  {
   "cell_type": "code",
   "execution_count": null,
   "id": "d94e3381",
   "metadata": {},
   "outputs": [],
   "source": [
    "def load_data(num_points, clouds, classes, action_class, anchor_class):\n",
    "    points_raw_np = clouds\n",
    "    classes_raw_np = classes\n",
    "\n",
    "    points_action_np = points_raw_np[classes_raw_np == action_class].copy()\n",
    "    points_action_mean_np = points_action_np.mean(axis=0)\n",
    "    points_action_np = points_action_np - points_action_mean_np\n",
    "    \n",
    "    points_anchor_np = points_raw_np[classes_raw_np == anchor_class].copy()\n",
    "    points_anchor_np = points_anchor_np - points_action_mean_np\n",
    "\n",
    "    points_action = torch.from_numpy(points_action_np).float().unsqueeze(0)\n",
    "    points_anchor = torch.from_numpy(points_anchor_np).float().unsqueeze(0)\n",
    "    points_action, points_anchor = subsample(num_points,points_action, points_anchor)\n",
    "    return points_action.cuda(), points_anchor.cuda()\n",
    "\n",
    "def subsample(num_points,points_action,points_anchor):\n",
    "    if(points_action.shape[1] > num_points):\n",
    "        points_action, _ = sample_farthest_points(points_action, \n",
    "            K=num_points, random_start_point=True)\n",
    "    elif(points_action.shape[1] < num_points):\n",
    "        raise NotImplementedError(f'Action point cloud is smaller than cloud size ({points_action.shape[1]} < {num_points})')\n",
    "\n",
    "    if(points_anchor.shape[1] > num_points):\n",
    "        points_anchor, _ = sample_farthest_points(points_anchor, \n",
    "            K=num_points, random_start_point=True)\n",
    "    elif(points_anchor.shape[1] < num_points):\n",
    "        raise NotImplementedError(f'Anchor point cloud is smaller than cloud size ({points_anchor.shape[1]} < {num_points})')\n",
    "    \n",
    "    return points_action, points_anchor"
   ]
  },
  {
   "cell_type": "code",
   "execution_count": null,
   "id": "b6ee2b02",
   "metadata": {},
   "outputs": [],
   "source": [
    "def plot(points_action, points_anchor):\n",
    "    colors = [\n",
    "    '#1f77b4',  # muted blue\n",
    "    '#ff7f0e',  # safety orange\n",
    "    '#2ca02c',  # cooked asparagus green\n",
    "    '#d62728',  # brick red\n",
    "    '#9467bd',  # muted purple\n",
    "    '#8c564b',  # chestnut brown\n",
    "    '#e377c2',  # raspberry yogurt pink\n",
    "    '#7f7f7f',  # middle gray\n",
    "    '#bcbd22',  # curry yellow-green\n",
    "    '#17becf'   # blue-teal\n",
    "]\n",
    "    skip = 1\n",
    "    points_action_dp = toDisplay(points_action)\n",
    "    points_anchor_dp = toDisplay(points_anchor)\n",
    "    go_data=[\n",
    "        go.Scatter3d(x=points_action_dp[::skip,0], y=points_action_dp[::skip,1], z=points_action_dp[::skip,2], \n",
    "                     mode='markers', marker=dict(size=1, color=colors[0],\n",
    "                     symbol='circle')),\n",
    "        go.Scatter3d(x=points_anchor_dp[::skip,0], y=points_anchor_dp[::skip,1], z=points_anchor_dp[::skip,2], \n",
    "                     mode='markers', marker=dict(size=1, color=colors[1],\n",
    "                     symbol='circle')),\n",
    "    ]\n",
    "    layout = go.Layout(\n",
    "        scene=dict(\n",
    "            aspectmode='data'\n",
    "        )\n",
    "    )\n",
    "\n",
    "    fig = go.Figure(data=go_data, layout=layout)\n",
    "    fig.show()\n",
    "def plot_multi(plist):\n",
    "    colors = [\n",
    "    '#1f77b4',  # muted blue\n",
    "    '#ff7f0e',  # safety orange\n",
    "    '#2ca02c',  # cooked asparagus green\n",
    "#     '#9467bd',  # muted purple\n",
    "    '#d62728',  # brick red\n",
    "    '#9467bd',  # muted purple\n",
    "    '#e377c2',  # raspberry yogurt pink\n",
    "    '#8c564b',  # chestnut brown\n",
    "    '#7f7f7f',  # middle gray\n",
    "    '#bcbd22',  # curry yellow-green\n",
    "    '#17becf'   # blue-teal\n",
    "]\n",
    "    skip = 1\n",
    "    go_data = []\n",
    "    for i in range(len(plist)):\n",
    "        p_dp = toDisplay(plist[i])\n",
    "        plot = go.Scatter3d(x=p_dp[::skip,0], y=p_dp[::skip,1], z=p_dp[::skip,2], \n",
    "                     mode='markers', marker=dict(size=1, color=colors[i],\n",
    "                     symbol='circle'))\n",
    "        go_data.append(plot)\n",
    " \n",
    "    layout = go.Layout(\n",
    "        scene=dict(\n",
    "            aspectmode='data'\n",
    "        )\n",
    "    )\n",
    "\n",
    "    fig = go.Figure(data=go_data, layout=layout)\n",
    "    fig.show()"
   ]
  },
  {
   "cell_type": "code",
   "execution_count": null,
   "id": "6e87305d",
   "metadata": {},
   "outputs": [],
   "source": [
    "from pathlib import Path\n",
    "import torch.nn.functional as F\n",
    "from equivariant_pose_graph.utils.se3 import random_se3\n",
    "from pytorch3d.transforms import Transform3d, Rotate\n",
    "import numpy as np\n",
    "import torch\n",
    "num_classes = 3\n",
    "data_idx = 0\n",
    "cloud_types = ['init', 'pre_grasp', 'post_grasp', 'teleport', 'post_place', 'final']\n",
    "cloud_type = 'init'\n",
    "data_path = Path('/home/exx/Documents/ndf_robot/src/ndf_robot/place_test_0_my_model_may12_dgcnn') \n",
    "point_data = np.load(data_path / f'{data_idx}_{cloud_type}_obj_points.npz', allow_pickle = True)\n",
    "points_action, points_anchor = load_data(num_points=1024, clouds = point_data['clouds'] ,classes = point_data['classes'], action_class= 0, anchor_class= 1)\n",
    "\n",
    "# Get T_pred\n",
    "T_pred = torch.from_numpy(point_data['T_pred'].T).unsqueeze(0).cuda().float()\n",
    "T_pred_transform = Transform3d(matrix=T_pred)\n",
    "mat_copy = point_data['T_pred']\n",
    "mat_copy[:3,-1]*=-1\n",
    "T_pred_negative_mat = mat_copy\n",
    "T_pred_negative = torch.from_numpy(T_pred_negative_mat.T).unsqueeze(0).cuda().float()\n",
    "print(T_pred_negative_mat)\n",
    "T_pred_transform = Transform3d(matrix=T_pred)\n",
    "T_pred_negative_transform = T_pred_transform.inverse()\n",
    "print(point_data['T_pred'])\n",
    "# Teleport Stage\n",
    "point_data_tele = np.load(data_path / f'{data_idx}_teleport_obj_points.npz', allow_pickle = True)\n",
    "points_action_tele, points_anchor_tele = load_data(num_points=1024, clouds = point_data_tele['clouds'] ,classes = point_data_tele['classes'], action_class= 0, anchor_class= 1)\n",
    "plot(points_action_tele , points_anchor_tele )\n",
    "points_action_trans_tele = points_action_tele\n",
    "points_anchor_trans_tele = points_anchor_tele"
   ]
  },
  {
   "cell_type": "code",
   "execution_count": null,
   "id": "c0d5d9d5",
   "metadata": {},
   "outputs": [],
   "source": [
    "plot_multi([T_pred_transform.transform_points(points_action),\n",
    "           points_anchor])"
   ]
  },
  {
   "cell_type": "code",
   "execution_count": null,
   "id": "bb2e1fdd",
   "metadata": {},
   "outputs": [],
   "source": [
    "plot_multi([points_action,\n",
    "           T_pred_negative_transform.transform_points(points_anchor)])"
   ]
  },
  {
   "cell_type": "code",
   "execution_count": null,
   "id": "7577b345",
   "metadata": {},
   "outputs": [],
   "source": [
    "plot_multi([T_pred_transform.transform_points(points_action),\n",
    "           points_anchor,\n",
    "           points_action_tele, \n",
    "           points_anchor_tele])"
   ]
  },
  {
   "cell_type": "code",
   "execution_count": null,
   "id": "a8cadf1d",
   "metadata": {},
   "outputs": [],
   "source": [
    "plot_multi([points_action,\n",
    "           T_pred_negative_transform.transform_points(points_anchor),\n",
    "           points_action_tele, \n",
    "           points_anchor_tele])"
   ]
  },
  {
   "cell_type": "code",
   "execution_count": null,
   "id": "77c61265",
   "metadata": {},
   "outputs": [],
   "source": [
    "plot_multi([\n",
    "            T_pred_transform.transform_points(points_action),\n",
    "           points_anchor,\n",
    "           points_action_tele, \n",
    "           points_anchor_tele,\n",
    "          points_action,\n",
    "          points_anchor])"
   ]
  },
  {
   "cell_type": "code",
   "execution_count": null,
   "id": "0e0a46e1",
   "metadata": {},
   "outputs": [],
   "source": []
  },
  {
   "cell_type": "code",
   "execution_count": null,
   "id": "fd9c7a4c",
   "metadata": {},
   "outputs": [],
   "source": []
  },
  {
   "cell_type": "code",
   "execution_count": null,
   "id": "39840ddc",
   "metadata": {},
   "outputs": [],
   "source": []
  },
  {
   "cell_type": "code",
   "execution_count": null,
   "id": "7fb392d0",
   "metadata": {},
   "outputs": [],
   "source": []
  }
 ],
 "metadata": {
  "kernelspec": {
   "display_name": "ndf_new",
   "language": "python",
   "name": "ndf_new"
  },
  "language_info": {
   "codemirror_mode": {
    "name": "ipython",
    "version": 3
   },
   "file_extension": ".py",
   "mimetype": "text/x-python",
   "name": "python",
   "nbconvert_exporter": "python",
   "pygments_lexer": "ipython3",
   "version": "3.7.13"
  }
 },
 "nbformat": 4,
 "nbformat_minor": 5
}
