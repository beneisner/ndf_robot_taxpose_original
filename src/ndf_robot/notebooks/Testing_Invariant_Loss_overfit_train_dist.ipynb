{
 "cells": [
  {
   "cell_type": "code",
   "execution_count": null,
   "id": "4fc347fe",
   "metadata": {},
   "outputs": [],
   "source": [
    "import sys\n",
    "import os\n",
    "import torch\n",
    "\n",
    "os.environ['CUDA_DEVICE_ORDER']='PCI_BUS_ID'\n",
    "os.environ['CUDA_VISIBLE_DEVICES']='0'\n",
    "\n",
    "import numpy as np\n",
    "import plotly.graph_objects as go"
   ]
  },
  {
   "cell_type": "code",
   "execution_count": null,
   "id": "a22f1aa6",
   "metadata": {},
   "outputs": [],
   "source": [
    "def toDisplay(x, target_dim = 2):\n",
    "    while(x.dim() > target_dim):\n",
    "        x = x[0]\n",
    "    return x.detach().cpu().numpy()"
   ]
  },
  {
   "cell_type": "code",
   "execution_count": null,
   "id": "ea342299",
   "metadata": {},
   "outputs": [],
   "source": [
    "import sys\n",
    "sys.path.insert(1, '/home/exx/Documents/equivariant_pose_graph/python')\n",
    "from equivariant_pose_graph.models.transformer_flow import ResidualFlow, ResidualFlow_V1\n",
    "from equivariant_pose_graph.training.flow_equivariance_training_module import EquivarianceTrainingModule\n",
    " \n",
    "from ndf_robot.eval.test_trained_model_place import load_data"
   ]
  },
  {
   "cell_type": "code",
   "execution_count": null,
   "id": "c764f281",
   "metadata": {},
   "outputs": [],
   "source": [
    "network = ResidualFlow()\n",
    "\n",
    "model = EquivarianceTrainingModule(\n",
    "    network)\n",
    "model.cuda()\n",
    "# checkpoint_file = \"/home/exx/media/DataDrive/singularity_chuerp/equiv_pgraph_logs/train_test_mr_dcpflow_residual0/equiv_dcpflow/version_9/checkpoints/epoch=410-step=51375.ckpt\"\n",
    "checkpoint_file = '/home/exx/media/DataDrive/singularity_chuerp/equiv_pgraph_logs/train_test_mr_dcpflow_residual0_attn_trans0.1_rot10_meancenter_overfit/equiv_dcpflow/version_1/saved_checkpts/epoch=24-step=3125.ckpt'\n",
    "model.load_state_dict(torch.load(checkpoint_file)['state_dict'])\n",
    " \n",
    "##\n",
    "place_model = model"
   ]
  },
  {
   "cell_type": "code",
   "execution_count": null,
   "id": "dd91486d",
   "metadata": {},
   "outputs": [],
   "source": [
    "# from pathlib import Path\n",
    "# import torch.nn.functional as F\n",
    "\n",
    "# num_classes = 3\n",
    "# data_idx = 0\n",
    "# cloud_types = ['init', 'pre_grasp', 'post_grasp', 'teleport', 'post_place', 'final']\n",
    "# cloud_type = 'teleport'\n",
    "# # data_path = Path('/home/bokorn/src/ndf_robot/notebooks')\n",
    "# # point_data = np.load(data_path / f'{data_idx}_obj_points.npz')\n",
    "# # data_path = Path('/home/exx/Documents/ndf_robot/train_new_data_3/renders')\n",
    "# data_path = Path('/home/exx/Documents/ndf_robot/src/ndf_robot/debug_place')\n",
    "# point_data = np.load(data_path / f'{data_idx}_{cloud_type}_obj_points.npz', allow_pickle = True)\n",
    "\n",
    "# points_raw_np = point_data['clouds']\n",
    "# classes_raw_np = point_data['classes']\n",
    " \n",
    "# class_0 = 0\n",
    "# class_1 = 1\n",
    "# class_2 = 2\n",
    "# num_classes = 2\n",
    "# mask = np.isin(classes_raw_np, [class_0, class_1])\n",
    "# points_np = points_raw_np[mask].copy()\n",
    "# classes_np = np.where(classes_raw_np[mask] == class_0, 0, 1)\n",
    " \n",
    "# print(classes_np.shape)\n",
    "\n",
    "# # points_np = points_np - points_np[classes_np==class_1].mean(axis=0)\n",
    "# points_np = points_np - points_np[classes_np==class_0].mean(axis=0)\n",
    "\n",
    "# points = torch.from_numpy(points_np).unsqueeze(0).float().cuda()\n",
    "# class_ids = torch.from_numpy(classes_np).unsqueeze(0).long().cuda()\n",
    "# classes = F.one_hot(class_ids, num_classes=num_classes)\n",
    "# points = points[:,::2]\n",
    "# classes = classes[:,::2]\n",
    "# # object_points = []\n",
    "# # for j in range(num_classes):\n",
    "# #     object_points.append(points[class_ids==j,:])\n",
    "# # colors_np = point_data['colors']\n",
    "# print(points_np.shape)\n"
   ]
  },
  {
   "cell_type": "code",
   "execution_count": null,
   "id": "b6ee2b02",
   "metadata": {},
   "outputs": [],
   "source": [
    "def plot(points_action, points_anchor):\n",
    "    colors = [\n",
    "    '#1f77b4',  # muted blue\n",
    "    '#ff7f0e',  # safety orange\n",
    "    '#2ca02c',  # cooked asparagus green\n",
    "    '#d62728',  # brick red\n",
    "    '#9467bd',  # muted purple\n",
    "    '#8c564b',  # chestnut brown\n",
    "    '#e377c2',  # raspberry yogurt pink\n",
    "    '#7f7f7f',  # middle gray\n",
    "    '#bcbd22',  # curry yellow-green\n",
    "    '#17becf'   # blue-teal\n",
    "]\n",
    "    skip = 1\n",
    "    points_action_dp = toDisplay(points_action)\n",
    "    points_anchor_dp = toDisplay(points_anchor)\n",
    "    go_data=[\n",
    "        go.Scatter3d(x=points_action_dp[::skip,0], y=points_action_dp[::skip,1], z=points_action_dp[::skip,2], \n",
    "                     mode='markers', marker=dict(size=1, color=colors[0],\n",
    "                     symbol='circle')),\n",
    "        go.Scatter3d(x=points_anchor_dp[::skip,0], y=points_anchor_dp[::skip,1], z=points_anchor_dp[::skip,2], \n",
    "                     mode='markers', marker=dict(size=1, color=colors[1],\n",
    "                     symbol='circle')),\n",
    "    ]\n",
    "    layout = go.Layout(\n",
    "        scene=dict(\n",
    "            aspectmode='data'\n",
    "        )\n",
    "    )\n",
    "\n",
    "    fig = go.Figure(data=go_data, layout=layout)\n",
    "    fig.show()"
   ]
  },
  {
   "cell_type": "code",
   "execution_count": null,
   "id": "2ea203d2",
   "metadata": {},
   "outputs": [],
   "source": [
    "trans_var = 1.0\n",
    "rot_var = 90"
   ]
  },
  {
   "cell_type": "code",
   "execution_count": null,
   "id": "d2048b7f",
   "metadata": {},
   "outputs": [],
   "source": [
    "from pathlib import Path\n",
    "import torch.nn.functional as F\n",
    "from equivariant_pose_graph.utils.se3 import random_se3\n",
    "\n",
    "num_classes = 3\n",
    "data_idx = 0\n",
    "cloud_types = ['init', 'pre_grasp', 'post_grasp', 'teleport', 'post_place', 'final']\n",
    "cloud_type = 'teleport'\n",
    "# data_path = Path('/home/bokorn/src/ndf_robot/notebooks')\n",
    "# point_data = np.load(data_path / f'{data_idx}_obj_points.npz')\n",
    "data_path = Path('/home/exx/Documents/ndf_robot/train_data_3/renders')\n",
    "# data_path = Path('/home/exx/Documents/ndf_robot/src/ndf_robot/debug_place')\n",
    "point_data = np.load(data_path / f'{data_idx}_{cloud_type}_obj_points.npz', allow_pickle = True)\n",
    "\n",
    "points_action, points_anchor = load_data(num_points=1024, clouds = point_data['clouds'] ,classes = point_data['classes'], action_class= 0, anchor_class= 1)\n",
    "T0 = random_se3(1, rot_var = np.pi/180 * rot_var, trans_var = trans_var, device = points_action.device) \n",
    "T1 = random_se3(1, rot_var = np.pi/180 * rot_var, trans_var = trans_var,  device = points_anchor.device) \n",
    "\n",
    "points_action_trans = T0.transform_points(points_action)\n",
    "points_anchor_trans = T1.transform_points(points_anchor)\n",
    "pred_T_action, pred_T_anchor, pred_T  = place_model(points_action_trans, points_anchor_trans)\n",
    " \n",
    "pred_T_action_points_action = pred_T_action.transform_points(points_action_trans)\n",
    "pred_T_action_points_anchor = pred_T_anchor.transform_points(points_anchor_trans)\n",
    "print(pred_T_action_points_action.shape)\n",
    "# pred_T_points_action = pred_T.transform_points(points_action)\n",
    "# pred_T_action_inverse_points_action = pred_T_anchor.inverse().transform_points(points_action)"
   ]
  },
  {
   "cell_type": "code",
   "execution_count": null,
   "id": "8c38555f",
   "metadata": {},
   "outputs": [],
   "source": [
    "plot(points_action, points_anchor)"
   ]
  },
  {
   "cell_type": "code",
   "execution_count": null,
   "id": "9b0a8f3f",
   "metadata": {},
   "outputs": [],
   "source": [
    "plot(points_action_trans, points_anchor_trans)"
   ]
  },
  {
   "cell_type": "code",
   "execution_count": null,
   "id": "0ef58235",
   "metadata": {},
   "outputs": [],
   "source": [
    "plot(pred_T_action_points_action, points_anchor_trans)"
   ]
  },
  {
   "cell_type": "code",
   "execution_count": null,
   "id": "7f46800e",
   "metadata": {},
   "outputs": [],
   "source": [
    "plot(pred_T_action_points_anchor, points_action_trans)"
   ]
  },
  {
   "cell_type": "code",
   "execution_count": null,
   "id": "46c9b378",
   "metadata": {},
   "outputs": [],
   "source": [
    "points_action, points_anchor = load_data(num_points=1024, clouds = point_data['clouds'] ,classes = point_data['classes'], action_class= 0, anchor_class= 1)\n",
    "pred_T_action, pred_T_anchor, pred_T  = place_model(points_action, points_anchor)\n",
    " \n",
    "pred_T_action_points_action = pred_T_action.transform_points(points_action)\n",
    "for i in range(20):\n",
    "    pred_T_action, pred_T_anchor, pred_T  = place_model(pred_T_action_points_action, points_anchor)\n",
    "    pred_T_action_points_action = pred_T_action.transform_points(pred_T_action_points_action)\n",
    "plot(pred_T_action_points_action, points_anchor)"
   ]
  },
  {
   "cell_type": "code",
   "execution_count": null,
   "id": "ca161073",
   "metadata": {},
   "outputs": [],
   "source": []
  },
  {
   "cell_type": "code",
   "execution_count": null,
   "id": "ac7b7be4",
   "metadata": {},
   "outputs": [],
   "source": []
  },
  {
   "cell_type": "code",
   "execution_count": null,
   "id": "d90e897f",
   "metadata": {},
   "outputs": [],
   "source": []
  }
 ],
 "metadata": {
  "kernelspec": {
   "display_name": "ndf_new",
   "language": "python",
   "name": "ndf_new"
  },
  "language_info": {
   "codemirror_mode": {
    "name": "ipython",
    "version": 3
   },
   "file_extension": ".py",
   "mimetype": "text/x-python",
   "name": "python",
   "nbconvert_exporter": "python",
   "pygments_lexer": "ipython3",
   "version": "3.7.13"
  }
 },
 "nbformat": 4,
 "nbformat_minor": 5
}
