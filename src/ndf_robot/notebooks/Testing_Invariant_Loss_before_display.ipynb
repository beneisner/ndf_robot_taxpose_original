{
 "cells": [
  {
   "cell_type": "code",
   "execution_count": null,
   "id": "4fc347fe",
   "metadata": {},
   "outputs": [],
   "source": [
    "import sys\n",
    "import os\n",
    "import torch\n",
    "\n",
    "os.environ['CUDA_DEVICE_ORDER']='PCI_BUS_ID'\n",
    "os.environ['CUDA_VISIBLE_DEVICES']='1'\n",
    "\n",
    "import numpy as np\n",
    "import plotly.graph_objects as go\n",
    "import matplotlib.pyplot as plt"
   ]
  },
  {
   "cell_type": "code",
   "execution_count": null,
   "id": "a22f1aa6",
   "metadata": {},
   "outputs": [],
   "source": [
    "def toDisplay(x, target_dim = 2):\n",
    "    while(x.dim() > target_dim):\n",
    "        x = x[0]\n",
    "    return x.detach().cpu().numpy()"
   ]
  },
  {
   "cell_type": "code",
   "execution_count": null,
   "id": "ea342299",
   "metadata": {},
   "outputs": [],
   "source": [
    "import sys\n",
    "sys.path.insert(1, '/home/exx/Documents/equivariant_pose_graph/python')\n",
    "from equivariant_pose_graph.models.transformer_flow import ResidualFlow, ResidualFlow_V1\n",
    "from equivariant_pose_graph.training.flow_equivariance_training_module import EquivarianceTrainingModule\n",
    " \n",
    "# from ndf_robot.eval.test_trained_model_place import load_data\n",
    "from equivariant_pose_graph.utils.display import scatter3d, quiver3d\n",
    "from pytorch3d.transforms import Transform3d"
   ]
  },
  {
   "cell_type": "code",
   "execution_count": null,
   "id": "b6ee2b02",
   "metadata": {},
   "outputs": [],
   "source": [
    "def plot(points_action, points_anchor):\n",
    "    colors = [\n",
    "    '#1f77b4',  # muted blue\n",
    "    '#ff7f0e',  # safety orange\n",
    "    '#2ca02c',  # cooked asparagus green\n",
    "    '#d62728',  # brick red\n",
    "    '#9467bd',  # muted purple\n",
    "    '#8c564b',  # chestnut brown\n",
    "    '#e377c2',  # raspberry yogurt pink\n",
    "    '#7f7f7f',  # middle gray\n",
    "    '#bcbd22',  # curry yellow-green\n",
    "    '#17becf'   # blue-teal\n",
    "]\n",
    "    skip = 1\n",
    "    points_action_dp = toDisplay(points_action)\n",
    "    points_anchor_dp = toDisplay(points_anchor)\n",
    "    go_data=[\n",
    "        go.Scatter3d(x=points_action_dp[::skip,0], y=points_action_dp[::skip,1], z=points_action_dp[::skip,2], \n",
    "                     mode='markers', marker=dict(size=1, color=colors[0],\n",
    "                     symbol='circle')),\n",
    "        go.Scatter3d(x=points_anchor_dp[::skip,0], y=points_anchor_dp[::skip,1], z=points_anchor_dp[::skip,2], \n",
    "                     mode='markers', marker=dict(size=1, color=colors[1],\n",
    "                     symbol='circle')),\n",
    "    ]\n",
    "    layout = go.Layout(\n",
    "        scene=dict(\n",
    "            aspectmode='data'\n",
    "        )\n",
    "    )\n",
    "\n",
    "    fig = go.Figure(data=go_data, layout=layout)\n",
    "    fig.show()"
   ]
  },
  {
   "cell_type": "code",
   "execution_count": null,
   "id": "8a8fd2ab",
   "metadata": {},
   "outputs": [],
   "source": [
    "def plot_multi(p1, p2, p3, p4):\n",
    "    colors = [\n",
    "    '#1f77b4',  # muted blue\n",
    "    '#ff7f0e',  # safety orange\n",
    "    '#2ca02c',  # cooked asparagus green\n",
    "    '#d62728',  # brick red\n",
    "    '#9467bd',  # muted purple\n",
    "    '#8c564b',  # chestnut brown\n",
    "    '#e377c2',  # raspberry yogurt pink\n",
    "    '#7f7f7f',  # middle gray\n",
    "    '#bcbd22',  # curry yellow-green\n",
    "    '#17becf'   # blue-teal\n",
    "]\n",
    "    skip = 1\n",
    "    p1_dp = toDisplay(p1)\n",
    "    p2_dp = toDisplay(p2)\n",
    "    p3_dp = toDisplay(p3)\n",
    "    p4_dp = toDisplay(p4)\n",
    "    go_data=[\n",
    "        go.Scatter3d(x=p1_dp[::skip,0], y=p1_dp[::skip,1], z=p1_dp[::skip,2], \n",
    "                     mode='markers', marker=dict(size=1, color=colors[0],\n",
    "                     symbol='circle')),\n",
    "        go.Scatter3d(x=p2_dp[::skip,0], y=p2_dp[::skip,1], z=p2_dp[::skip,2], \n",
    "                     mode='markers', marker=dict(size=1, color=colors[1],\n",
    "                     symbol='circle')),\n",
    "        go.Scatter3d(x=p3_dp[::skip,0], y=p3_dp[::skip,1], z=p3_dp[::skip,2], \n",
    "                     mode='markers', marker=dict(size=1, color=colors[2],\n",
    "                     symbol='circle')),\n",
    "        go.Scatter3d(x=p4_dp[::skip,0], y=p4_dp[::skip,1], z=p4_dp[::skip,2], \n",
    "                     mode='markers', marker=dict(size=1, color=colors[3],\n",
    "                     symbol='circle')),\n",
    "    ]\n",
    "    layout = go.Layout(\n",
    "        scene=dict(\n",
    "            aspectmode='data'\n",
    "        )\n",
    "    )\n",
    "\n",
    "    fig = go.Figure(data=go_data, layout=layout)\n",
    "    fig.show()"
   ]
  },
  {
   "cell_type": "code",
   "execution_count": null,
   "id": "c764f281",
   "metadata": {},
   "outputs": [],
   "source": [
    "network = ResidualFlow()\n",
    "\n",
    "model = EquivarianceTrainingModule(\n",
    "    network)\n",
    "model.cuda()\n",
    "# checkpoint_file = \"/home/exx/media/DataDrive/singularity_chuerp/equiv_pgraph_logs/train_test_mr_dcpflow_residual0/equiv_dcpflow/version_9/checkpoints/epoch=410-step=51375.ckpt\"\n",
    "# checkpoint_file = \"/home/exx/media/DataDrive/singularity_chuerp/equiv_pgraph_logs/train_test_mr_dcpflow_residual0_attn_trans0.1_overfit/equiv_dcpflow/version_3/saved_checkpoints/epoch=30-step=3875.ckpt\"\n",
    "# checkpoint_file = \"/home/exx/media/DataDrive/singularity_chuerp/equiv_pgraph_logs/train_test_mr_dcpflow_residual1_attn/equiv_dcpflow/version_1/checkpoints/epoch=754-step=94375.ckpt\"\n",
    "checkpoint_file = '/home/exx/media/DataDrive/singularity_chuerp/equiv_pgraph_logs/train_test_mr_dcpflow_residual0_attn_trans0.1_ovefit/equiv_dcpflow/version_28/checkpoints/epoch=2-step=375.ckpt'\n",
    "model.load_state_dict(torch.load(checkpoint_file)['state_dict'])\n",
    " \n",
    "##\n",
    "place_model = model.eval() "
   ]
  },
  {
   "cell_type": "code",
   "execution_count": null,
   "id": "44fc0e87",
   "metadata": {},
   "outputs": [],
   "source": [
    "\n",
    "pred_T = np.load('/home/exx/Documents/equivariant_pose_graph/transformations/display_pointclouds.npz', allow_pickle=True)\n",
    "pred_T_action = torch.from_numpy(pred_T['pred_T_action'])\n",
    "pred_T_action_transform = Transform3d(matrix=pred_T_action)\n",
    " \n",
    "pred_T_anchor = torch.from_numpy(pred_T['pred_T_anchor'])\n",
    "pred_T_anchor_transform = Transform3d(matrix=pred_T_anchor)\n",
    "points_trans_action = torch.from_numpy(pred_T['points_trans_action'])\n",
    "points_trans_anchor = torch.from_numpy(pred_T['points_trans_anchor'])\n",
    "action_transformed = torch.from_numpy(pred_T['action_transformed'])\n",
    "anchor_transformed = torch.from_numpy(pred_T['anchor_transformed'])\n",
    "points_action = torch.from_numpy(pred_T['points_action'])\n",
    "points_anchor = torch.from_numpy(pred_T['points_anchor'])\n",
    "\n",
    "\n",
    "our_action_transformed = pred_T_action_transform.transform_points(points_trans_action)\n",
    "our_anchor_transformed = pred_T_anchor_transform.transform_points(points_trans_anchor)"
   ]
  },
  {
   "cell_type": "code",
   "execution_count": null,
   "id": "a3757ae1",
   "metadata": {},
   "outputs": [],
   "source": [
    " \n",
    "print(torch.abs(action_transformed-our_action_transformed).sum())\n",
    "print(torch.allclose(action_transformed,our_action_transformed, atol=1e-2))"
   ]
  },
  {
   "cell_type": "code",
   "execution_count": null,
   "id": "55ab1599",
   "metadata": {},
   "outputs": [],
   "source": [
    "plot(points_action[0], points_anchor[0])"
   ]
  },
  {
   "cell_type": "code",
   "execution_count": null,
   "id": "bafc41fa",
   "metadata": {},
   "outputs": [],
   "source": [
    "plot(our_action_transformed[0], points_trans_anchor[0])"
   ]
  },
  {
   "cell_type": "code",
   "execution_count": null,
   "id": "ead59f12",
   "metadata": {},
   "outputs": [],
   "source": [
    "plot(action_transformed[0], points_trans_anchor[0])"
   ]
  },
  {
   "cell_type": "code",
   "execution_count": null,
   "id": "3efb6e3b",
   "metadata": {},
   "outputs": [],
   "source": [
    "raw_point_cloud = np.load('/home/exx/Documents/equivariant_pose_graph/transformations/load_data.npz', allow_pickle=True)\n",
    "\n",
    "points_raw_np = raw_point_cloud['points_raw_np']\n",
    "classes_raw_np = raw_point_cloud['classes_raw_np']\n",
    "\n",
    "\n",
    "from ndf_robot.eval.test_trained_model_place import load_data\n",
    "points_action_loaded, points_anchor_loaded = load_data(num_points=1024, clouds = points_raw_np ,\\\n",
    "                                         classes = classes_raw_np, action_class= 0, anchor_class= 1)\n",
    "MODEL_pred_T_action, MODEL_pred_T_anchor, MODEL_pred_T  = place_model(points_trans_action.cuda(), points_trans_anchor.cuda())\n",
    "MODEL_action_transformed = MODEL_pred_T_action.transform_points(points_trans_action.cuda())"
   ]
  },
  {
   "cell_type": "code",
   "execution_count": null,
   "id": "d37bb008",
   "metadata": {},
   "outputs": [],
   "source": [
    "plot(points_action[0], points_action_loaded[0])"
   ]
  },
  {
   "cell_type": "code",
   "execution_count": null,
   "id": "e4f652f3",
   "metadata": {},
   "outputs": [],
   "source": [
    "plot(points_anchor[0], points_anchor_loaded[0])"
   ]
  },
  {
   "cell_type": "code",
   "execution_count": null,
   "id": "670dd2ea",
   "metadata": {},
   "outputs": [],
   "source": [
    "plot_multi(points_action_loaded[0], points_anchor_loaded[0],points_action[0], points_anchor[0])"
   ]
  },
  {
   "cell_type": "code",
   "execution_count": null,
   "id": "44098890",
   "metadata": {},
   "outputs": [],
   "source": [
    "print(points_action[0:1].shape)\n",
    "print(points_action_loaded.shape)"
   ]
  },
  {
   "cell_type": "code",
   "execution_count": null,
   "id": "719eef4e",
   "metadata": {},
   "outputs": [],
   "source": [
    "plot(MODEL_action_transformed[0], points_trans_anchor[0])"
   ]
  },
  {
   "cell_type": "code",
   "execution_count": null,
   "id": "7e752cf9",
   "metadata": {},
   "outputs": [],
   "source": [
    "stop"
   ]
  },
  {
   "cell_type": "code",
   "execution_count": null,
   "id": "ee1ca8da",
   "metadata": {},
   "outputs": [],
   "source": []
  },
  {
   "cell_type": "code",
   "execution_count": null,
   "id": "4bcd6af7",
   "metadata": {},
   "outputs": [],
   "source": []
  },
  {
   "cell_type": "code",
   "execution_count": null,
   "id": "5c88625d",
   "metadata": {},
   "outputs": [],
   "source": []
  },
  {
   "cell_type": "code",
   "execution_count": null,
   "id": "ea9d722d",
   "metadata": {},
   "outputs": [],
   "source": []
  },
  {
   "cell_type": "code",
   "execution_count": null,
   "id": "591ab6de",
   "metadata": {},
   "outputs": [],
   "source": []
  },
  {
   "cell_type": "code",
   "execution_count": null,
   "id": "237097c0",
   "metadata": {},
   "outputs": [],
   "source": []
  }
 ],
 "metadata": {
  "kernelspec": {
   "display_name": "ndf_new",
   "language": "python",
   "name": "ndf_new"
  },
  "language_info": {
   "codemirror_mode": {
    "name": "ipython",
    "version": 3
   },
   "file_extension": ".py",
   "mimetype": "text/x-python",
   "name": "python",
   "nbconvert_exporter": "python",
   "pygments_lexer": "ipython3",
   "version": "3.7.13"
  }
 },
 "nbformat": 4,
 "nbformat_minor": 5
}
