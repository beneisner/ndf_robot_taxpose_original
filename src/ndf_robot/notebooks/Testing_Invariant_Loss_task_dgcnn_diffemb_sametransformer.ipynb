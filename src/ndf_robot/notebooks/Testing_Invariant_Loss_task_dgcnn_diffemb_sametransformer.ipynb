{
 "cells": [
  {
   "cell_type": "code",
   "execution_count": null,
   "id": "4fc347fe",
   "metadata": {},
   "outputs": [],
   "source": [
    "import sys\n",
    "import os\n",
    "import torch\n",
    "\n",
    "os.environ['CUDA_DEVICE_ORDER']='PCI_BUS_ID'\n",
    "os.environ['CUDA_VISIBLE_DEVICES']='1'\n",
    "\n",
    "import numpy as np\n",
    "import plotly.graph_objects as go"
   ]
  },
  {
   "cell_type": "code",
   "execution_count": null,
   "id": "a22f1aa6",
   "metadata": {},
   "outputs": [],
   "source": [
    "def toDisplay(x, target_dim = 2):\n",
    "    while(x.dim() > target_dim):\n",
    "        x = x[0]\n",
    "    return x.detach().cpu().numpy()"
   ]
  },
  {
   "cell_type": "code",
   "execution_count": null,
   "id": "ea342299",
   "metadata": {},
   "outputs": [],
   "source": [
    "from equivariant_pose_graph.models.transformer_flow import ResidualFlow_DiffEmb, ResidualFlow_DiffEmbTransformer\n",
    "from equivariant_pose_graph.training.flow_equivariance_training_module import EquivarianceTrainingModule\n",
    "from pytorch3d.ops import sample_farthest_points"
   ]
  },
  {
   "cell_type": "code",
   "execution_count": null,
   "id": "d94e3381",
   "metadata": {},
   "outputs": [],
   "source": [
    "def load_data(num_points, clouds, classes, action_class, anchor_class):\n",
    "    points_raw_np = clouds\n",
    "    classes_raw_np = classes\n",
    "\n",
    "    points_action_np = points_raw_np[classes_raw_np == action_class].copy()\n",
    "    points_action_mean_np = points_action_np.mean(axis=0)\n",
    "    points_action_np = points_action_np - points_action_mean_np\n",
    "    \n",
    "    points_anchor_np = points_raw_np[classes_raw_np == anchor_class].copy()\n",
    "    points_anchor_np = points_anchor_np - points_action_mean_np\n",
    "\n",
    "    points_action = torch.from_numpy(points_action_np).float().unsqueeze(0)\n",
    "    points_anchor = torch.from_numpy(points_anchor_np).float().unsqueeze(0)\n",
    "    points_action, points_anchor = subsample(num_points,points_action, points_anchor)\n",
    "    return points_action.cuda(), points_anchor.cuda()\n",
    "\n",
    "def subsample(num_points,points_action,points_anchor):\n",
    "    if(points_action.shape[1] > num_points):\n",
    "        points_action, _ = sample_farthest_points(points_action, \n",
    "            K=num_points, random_start_point=True)\n",
    "    elif(points_action.shape[1] < num_points):\n",
    "        raise NotImplementedError(f'Action point cloud is smaller than cloud size ({points_action.shape[1]} < {num_points})')\n",
    "\n",
    "    if(points_anchor.shape[1] > num_points):\n",
    "        points_anchor, _ = sample_farthest_points(points_anchor, \n",
    "            K=num_points, random_start_point=True)\n",
    "    elif(points_anchor.shape[1] < num_points):\n",
    "        raise NotImplementedError(f'Anchor point cloud is smaller than cloud size ({points_anchor.shape[1]} < {num_points})')\n",
    "    \n",
    "    return points_action, points_anchor"
   ]
  },
  {
   "cell_type": "code",
   "execution_count": null,
   "id": "c764f281",
   "metadata": {},
   "outputs": [],
   "source": [
    "network = ResidualFlow_DiffEmb(emb_nn='dgcnn')\n",
    "\n",
    "model = EquivarianceTrainingModule(\n",
    "    network)\n",
    "model.cuda()\n",
    "#checkpoint_file = '/home/exx/media/DataDrive/singularity_chuerp/equiv_pgraph_logs/train_test_mr_dcpflow_residual0_attn_trans0.1_rot5_meancenter_diffembnn/equiv_dcpflow/version_2/checkpoints/epoch=14-step=1875.ckpt'\n",
    "checkpoint_file = '/home/exx/media/DataDrive/singularity_chuerp/equiv_pgraph_logs/train_test_mr_dcpflow_residual0_attn_trans0.1_rot5_meancenter_diffembnn/equiv_dcpflow/version_2/checkpoints/epoch=14-step=1875.ckpt'\n",
    "# checkpoint_file='/home/exx/media/DataDrive/singularity_chuerp/equiv_pgraph_logs/train_test_mr_dcpflow_residual0_attn_trans0.1_rot180_diffembnntrans_dgcnn/equiv_dcpflow/version_2/saved_ckpts/epoch=34-step=4375.ckpt'\n",
    "model.load_state_dict(torch.load(checkpoint_file)['state_dict'])\n",
    "place_model = model "
   ]
  },
  {
   "cell_type": "code",
   "execution_count": null,
   "id": "b6ee2b02",
   "metadata": {},
   "outputs": [],
   "source": [
    "def plot(points_action, points_anchor):\n",
    "    colors = [\n",
    "    '#1f77b4',  # muted blue\n",
    "    '#ff7f0e',  # safety orange\n",
    "    '#2ca02c',  # cooked asparagus green\n",
    "    '#d62728',  # brick red\n",
    "    '#9467bd',  # muted purple\n",
    "    '#8c564b',  # chestnut brown\n",
    "    '#e377c2',  # raspberry yogurt pink\n",
    "    '#7f7f7f',  # middle gray\n",
    "    '#bcbd22',  # curry yellow-green\n",
    "    '#17becf'   # blue-teal\n",
    "]\n",
    "    skip = 1\n",
    "    points_action_dp = toDisplay(points_action)\n",
    "    points_anchor_dp = toDisplay(points_anchor)\n",
    "    go_data=[\n",
    "        go.Scatter3d(x=points_action_dp[::skip,0], y=points_action_dp[::skip,1], z=points_action_dp[::skip,2], \n",
    "                     mode='markers', marker=dict(size=1, color=colors[0],\n",
    "                     symbol='circle')),\n",
    "        go.Scatter3d(x=points_anchor_dp[::skip,0], y=points_anchor_dp[::skip,1], z=points_anchor_dp[::skip,2], \n",
    "                     mode='markers', marker=dict(size=1, color=colors[1],\n",
    "                     symbol='circle')),\n",
    "    ]\n",
    "    layout = go.Layout(\n",
    "        scene=dict(\n",
    "            aspectmode='data'\n",
    "        )\n",
    "    )\n",
    "\n",
    "    fig = go.Figure(data=go_data, layout=layout)\n",
    "    fig.show()\n",
    "def plot_multi(p1, p2, p3, p4):\n",
    "    colors = [\n",
    "    '#1f77b4',  # muted blue\n",
    "    '#ff7f0e',  # safety orange\n",
    "    '#2ca02c',  # cooked asparagus green\n",
    "    '#d62728',  # brick red\n",
    "    '#9467bd',  # muted purple\n",
    "    '#8c564b',  # chestnut brown\n",
    "    '#e377c2',  # raspberry yogurt pink\n",
    "    '#7f7f7f',  # middle gray\n",
    "    '#bcbd22',  # curry yellow-green\n",
    "    '#17becf'   # blue-teal\n",
    "]\n",
    "    skip = 1\n",
    "    p1_dp = toDisplay(p1)\n",
    "    p2_dp = toDisplay(p2)\n",
    "    p3_dp = toDisplay(p3)\n",
    "    p4_dp = toDisplay(p4)\n",
    "    go_data=[\n",
    "        go.Scatter3d(x=p1_dp[::skip,0], y=p1_dp[::skip,1], z=p1_dp[::skip,2], \n",
    "                     mode='markers', marker=dict(size=1, color=colors[0],\n",
    "                     symbol='circle')),\n",
    "        go.Scatter3d(x=p2_dp[::skip,0], y=p2_dp[::skip,1], z=p2_dp[::skip,2], \n",
    "                     mode='markers', marker=dict(size=1, color=colors[1],\n",
    "                     symbol='circle')),\n",
    "        go.Scatter3d(x=p3_dp[::skip,0], y=p3_dp[::skip,1], z=p3_dp[::skip,2], \n",
    "                     mode='markers', marker=dict(size=1, color=colors[2],\n",
    "                     symbol='circle')),\n",
    "        go.Scatter3d(x=p4_dp[::skip,0], y=p4_dp[::skip,1], z=p4_dp[::skip,2], \n",
    "                     mode='markers', marker=dict(size=1, color=colors[3],\n",
    "                     symbol='circle')),\n",
    "    ]\n",
    "    layout = go.Layout(\n",
    "        scene=dict(\n",
    "            aspectmode='data'\n",
    "        )\n",
    "    )\n",
    "\n",
    "    fig = go.Figure(data=go_data, layout=layout)\n",
    "    fig.show()"
   ]
  },
  {
   "cell_type": "code",
   "execution_count": null,
   "id": "05e595c0",
   "metadata": {},
   "outputs": [],
   "source": [
    " \n",
    "# from pathlib import Path\n",
    "# import torch.nn.functional as F\n",
    "# from equivariant_pose_graph.utils.se3 import random_se3\n",
    "# from pytorch3d.transforms import Transform3d, Rotate\n",
    "\n",
    "# num_classes = 3\n",
    "# data_idx = 0\n",
    "# cloud_types = ['init', 'pre_grasp', 'post_grasp', 'teleport', 'post_place', 'final']\n",
    "# cloud_type = 'init'\n",
    "# # data_path = Path('/home/exx/Documents/ndf_robot/src/ndf_robot/place_test_0_my_model_may11_dgcnn_diffembnntrans_rot180') \n",
    "# data_path = Path('/home/exx/Documents/ndf_robot/train_data_3/renders/61_teleport_obj_points.npz')\n",
    "# point_data = np.load(data_path, allow_pickle = True)\n",
    " \n",
    "# points_action, points_anchor = load_data(num_points=1024, clouds = point_data['clouds'] ,classes = point_data['classes'], action_class= 0, anchor_class= 1)\n",
    "# plot(points_action, points_anchor)\n",
    "\n",
    "# points_action_trans = points_action\n",
    "# points_anchor_trans = points_anchor\n",
    "# pred_T_action, pred_T_anchor, pred_T  = place_model(points_action, points_anchor)\n",
    " \n",
    "# pred_T_action_points_action = pred_T_action.transform_points(points_action_trans)\n",
    "# pred_T_action_points_anchor = pred_T_anchor.transform_points(points_anchor_trans)\n",
    " \n",
    " \n",
    "\n",
    "# ## What the predicted transform in plotly looks like:\n",
    "# plot(pred_T_action_points_action, points_anchor)\n",
    "\n",
    "# pred_T_action_points_action_iterate = pred_T_action_points_action\n",
    "# for i in range(20):\n",
    "#     pred_T_action, pred_T_anchor, pred_T  = place_model(pred_T_action_points_action_iterate, points_anchor)\n",
    "#     pred_T_action_points_action_iterate = pred_T_action.transform_points(pred_T_action_points_action_iterate)\n",
    "    \n",
    "#     torch.cuda.empty_cache() \n",
    "# plot_multi(points_action, points_anchor, pred_T_action_points_action, points_anchor)"
   ]
  },
  {
   "cell_type": "code",
   "execution_count": null,
   "id": "85c85935",
   "metadata": {},
   "outputs": [],
   "source": [
    "# plot_multi(points_action, points_anchor, pred_T_action_points_action_iterate, points_anchor)"
   ]
  },
  {
   "cell_type": "code",
   "execution_count": null,
   "id": "d2048b7f",
   "metadata": {},
   "outputs": [],
   "source": [
    "from pathlib import Path\n",
    "import torch.nn.functional as F\n",
    "from equivariant_pose_graph.utils.se3 import random_se3\n",
    "from pytorch3d.transforms import Transform3d, Rotate\n",
    "\n",
    "num_classes = 3\n",
    "data_idx = 0\n",
    "cloud_types = ['init', 'pre_grasp', 'post_grasp', 'teleport', 'post_place', 'final']\n",
    "cloud_type = 'init'\n",
    "data_path = Path('/home/exx/Documents/ndf_robot/src/ndf_robot/place_test_0_my_model_may12_dgcnn_diffemb') \n",
    "point_data = np.load(data_path / f'{data_idx}_{cloud_type}_obj_points.npz', allow_pickle = True)\n",
    "pred_T_action_init = torch.from_numpy(point_data['pred_T_action_init'][0]).cuda()\n",
    "pred_T_action_pulled = Transform3d(matrix=pred_T_action_init)\n",
    "# print(\"pred_T_action_init\")\n",
    "# print(pred_T_action_init)\n",
    " \n",
    "points_action, points_anchor = load_data(num_points=1024, clouds = point_data['clouds'] ,classes = point_data['classes'], action_class= 0, anchor_class= 1)\n",
    "\n",
    "\n",
    "points_action_trans = points_action\n",
    "points_anchor_trans = points_anchor\n",
    "pred_T_action, pred_T_anchor, pred_T  = place_model(points_action, points_anchor)\n",
    "\n",
    "pred_T_action_points_action = pred_T_action.transform_points(points_action_trans)\n",
    "pred_T_action_points_anchor = pred_T_anchor.transform_points(points_anchor_trans)\n",
    "## What in the intial point cloud looks like:\n",
    "plot(points_action, points_anchor)\n",
    " \n",
    "# ## What the predicted transform in plotly looks like:\n",
    "# plot(pred_T_action_points_action, points_anchor)\n",
    " \n",
    "\n",
    "\n",
    "pred_T_action_points_action_iterate = pred_T_action_points_action\n",
    "for i in range(30):\n",
    "    pred_T_action, pred_T_anchor, pred_T  = place_model(pred_T_action_points_action_iterate, points_anchor)\n",
    "    pred_T_action_points_action_iterate = pred_T_action.transform_points(pred_T_action_points_action_iterate)\n",
    " \n",
    "    torch.cuda.empty_cache() \n",
    " "
   ]
  },
  {
   "cell_type": "code",
   "execution_count": null,
   "id": "3ae73fd0",
   "metadata": {},
   "outputs": [],
   "source": [
    "print(\"pred_T_action_pulled.get_matrix()\")\n",
    "print(pred_T_action_pulled.get_matrix())\n",
    "print(\"pred_T_action.get_matrix()\")\n",
    "print(pred_T_action.get_matrix())"
   ]
  },
  {
   "cell_type": "code",
   "execution_count": null,
   "id": "5cadf3e4",
   "metadata": {},
   "outputs": [],
   "source": [
    "plot(pred_T_action_points_action, points_anchor)"
   ]
  },
  {
   "cell_type": "code",
   "execution_count": null,
   "id": "d9e257f9",
   "metadata": {},
   "outputs": [],
   "source": [
    "plot_multi(pred_T_action_points_action, points_anchor, pred_T_action_points_action_iterate, points_anchor)"
   ]
  },
  {
   "cell_type": "code",
   "execution_count": null,
   "id": "2a1a01b9",
   "metadata": {},
   "outputs": [],
   "source": [
    "plot(pred_T_action_points_action_iterate, points_anchor)"
   ]
  },
  {
   "cell_type": "code",
   "execution_count": null,
   "id": "46c86333",
   "metadata": {},
   "outputs": [],
   "source": [
    " \n",
    "plot(pred_T_action_pulled.transform_points(points_action),points_anchor)"
   ]
  },
  {
   "cell_type": "code",
   "execution_count": null,
   "id": "b2a8df26",
   "metadata": {},
   "outputs": [],
   "source": [
    "plot_multi(pred_T_action_pulled.transform_points(points_action), \n",
    "           points_anchor, \n",
    "           pred_T_action_points_action, \n",
    "           points_anchor)"
   ]
  },
  {
   "cell_type": "code",
   "execution_count": null,
   "id": "3367388d",
   "metadata": {},
   "outputs": [],
   "source": [
    "## What in pybullet \n",
    "cloud_type = 'teleport'\n",
    " \n",
    "point_data = np.load(data_path / f'{data_idx}_{cloud_type}_obj_points.npz', allow_pickle = True)\n",
    " \n",
    "points_action_tele, points_anchor_tele = load_data(num_points=1024, clouds = point_data['clouds'] ,classes = point_data['classes'], action_class= 0, anchor_class= 1)\n",
    "plot(points_action_tele , points_anchor_tele )\n",
    "points_action_trans_tele = points_action_tele\n",
    "points_anchor_trans_tele = points_anchor_tele\n",
    "pred_T_action_tele, pred_T_anchor_tele, pred_T_tele = place_model(points_action_trans_tele, points_anchor_trans_tele)\n",
    " \n",
    "pred_T_action_points_action_tele = pred_T_action_tele.transform_points(points_action_trans_tele)\n",
    "pred_T_action_points_anchor_tele = pred_T_anchor_tele.transform_points(points_anchor_trans_tele)\n",
    " \n",
    " \n",
    "# # for i in range(20):\n",
    "# #     pred_T_action, pred_T_anchor, pred_T  = place_model(pred_T_action_points_action, points_anchor)\n",
    "# #     pred_T_action_points_action = pred_T_action.transform_points(pred_T_action_points_action)\n",
    "# #     plot(pred_T_action_points_action, points_anchor)\n",
    "# #     torch.cuda.empty_cache() \n",
    "# plot(pred_T_action_points_action_tele , points_anchor_tele )"
   ]
  },
  {
   "cell_type": "code",
   "execution_count": null,
   "id": "b8bde59d",
   "metadata": {},
   "outputs": [],
   "source": [
    "plot_multi(pred_T_action_pulled.transform_points(points_action), points_anchor, points_action_tele, points_anchor_tele)"
   ]
  },
  {
   "cell_type": "code",
   "execution_count": null,
   "id": "ebd6dc78",
   "metadata": {},
   "outputs": [],
   "source": [
    "stop"
   ]
  },
  {
   "cell_type": "code",
   "execution_count": null,
   "id": "8c38555f",
   "metadata": {},
   "outputs": [],
   "source": [
    "plot(points_action, points_anchor)"
   ]
  },
  {
   "cell_type": "code",
   "execution_count": null,
   "id": "cf2676ef",
   "metadata": {},
   "outputs": [],
   "source": [
    "plot(pred_T_action_points_action, points_anchor)"
   ]
  },
  {
   "cell_type": "code",
   "execution_count": null,
   "id": "6d44aa89",
   "metadata": {},
   "outputs": [],
   "source": [
    "# Load Teleport\n",
    "from pathlib import Path\n",
    "import torch.nn.functional as F\n",
    "from equivariant_pose_graph.utils.se3 import random_se3\n",
    "\n",
    "num_classes = 3\n",
    "cloud_types = ['init', 'pre_grasp', 'post_grasp', 'teleport', 'post_place', 'final']\n",
    "cloud_type = 'teleport'\n",
    "# data_path = Path('/home/bokorn/src/ndf_robot/notebooks')\n",
    "# point_data = np.load(data_path / f'{data_idx}_obj_points.npz')\n",
    "# data_path = Path('/home/exx/Documents/ndf_robot/train_new_data_3/renders')\n",
    "# data_path = Path('/home/exx/Documents/ndf_robot/src/ndf_robot/debug_place_shapeid_34ae0b61b0d8aaf2d7b20fded0142d7a') \n",
    "data_path = Path('/home/exx/Documents/ndf_robot/src/ndf_robot/place_test_0_my_model_may10_overfit') \n",
    "point_data = np.load(data_path / f'{data_idx}_{cloud_type}_obj_points.npz', allow_pickle = True)\n",
    "print(point_data['shapenet_id'])\n",
    "points_action, points_anchor = load_data(num_points=1024, clouds = point_data['clouds'] ,classes = point_data['classes'], action_class= 0, anchor_class= 1)\n",
    " \n",
    "points_action_trans = points_action\n",
    "points_anchor_trans = points_anchor\n",
    "pred_T_action, pred_T_anchor, pred_T  = place_model(points_action_trans, points_anchor_trans)\n",
    " \n",
    "pred_T_action_points_action = pred_T_action.transform_points(points_action_trans)\n",
    "pred_T_action_points_anchor = pred_T_anchor.transform_points(points_anchor_trans)\n",
    "plot(points_action, points_anchor)\n",
    " \n",
    "for i in range(20):\n",
    "    pred_T_action, pred_T_anchor, pred_T  = place_model(pred_T_action_points_action, points_anchor)\n",
    "    pred_T_action_points_action = pred_T_action.transform_points(pred_T_action_points_action)\n",
    "    \n",
    "    torch.cuda.empty_cache() \n",
    "plot(pred_T_action_points_action, points_anchor)"
   ]
  },
  {
   "cell_type": "code",
   "execution_count": null,
   "id": "e409d523",
   "metadata": {},
   "outputs": [],
   "source": []
  },
  {
   "cell_type": "code",
   "execution_count": null,
   "id": "092a741f",
   "metadata": {},
   "outputs": [],
   "source": []
  },
  {
   "cell_type": "code",
   "execution_count": null,
   "id": "e0dd3c91",
   "metadata": {},
   "outputs": [],
   "source": []
  },
  {
   "cell_type": "code",
   "execution_count": null,
   "id": "74dcd5cc",
   "metadata": {},
   "outputs": [],
   "source": []
  },
  {
   "cell_type": "code",
   "execution_count": null,
   "id": "1de74285",
   "metadata": {},
   "outputs": [],
   "source": []
  },
  {
   "cell_type": "code",
   "execution_count": null,
   "id": "855fca7c",
   "metadata": {},
   "outputs": [],
   "source": []
  }
 ],
 "metadata": {
  "kernelspec": {
   "display_name": "ndf_new",
   "language": "python",
   "name": "ndf_new"
  },
  "language_info": {
   "codemirror_mode": {
    "name": "ipython",
    "version": 3
   },
   "file_extension": ".py",
   "mimetype": "text/x-python",
   "name": "python",
   "nbconvert_exporter": "python",
   "pygments_lexer": "ipython3",
   "version": "3.7.13"
  }
 },
 "nbformat": 4,
 "nbformat_minor": 5
}
