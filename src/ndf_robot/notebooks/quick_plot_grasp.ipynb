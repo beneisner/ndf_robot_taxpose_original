{
 "cells": [
  {
   "cell_type": "code",
   "execution_count": null,
   "id": "4fc347fe",
   "metadata": {},
   "outputs": [],
   "source": [
    "import sys\n",
    "import os\n",
    "import torch\n",
    "\n",
    "os.environ['CUDA_DEVICE_ORDER']='PCI_BUS_ID'\n",
    "os.environ['CUDA_VISIBLE_DEVICES']='1'\n",
    "\n",
    "import numpy as np\n",
    "import plotly.graph_objects as go"
   ]
  },
  {
   "cell_type": "code",
   "execution_count": null,
   "id": "a22f1aa6",
   "metadata": {},
   "outputs": [],
   "source": [
    "def toDisplay(x, target_dim = 2):\n",
    "    while(x.dim() > target_dim):\n",
    "        x = x[0]\n",
    "    return x.detach().cpu().numpy()"
   ]
  },
  {
   "cell_type": "code",
   "execution_count": null,
   "id": "ea342299",
   "metadata": {},
   "outputs": [],
   "source": [
    "import sys\n",
    "sys.path.insert(1, '/home/exx/Documents/equivariant_pose_graph/python')\n",
    "from equivariant_pose_graph.models.transformer_flow import ResidualFlow, ResidualFlow_V1\n",
    "from equivariant_pose_graph.training.flow_equivariance_training_module import EquivarianceTrainingModule\n",
    "\n",
    "# from ndf_robot.eval.test_trained_model_place import load_data\n",
    "from pytorch3d.ops import sample_farthest_points\n",
    "from pathlib import Path\n",
    "import torch.nn.functional as F\n",
    "from equivariant_pose_graph.utils.se3 import random_se3\n"
   ]
  },
  {
   "cell_type": "code",
   "execution_count": null,
   "id": "c764f281",
   "metadata": {},
   "outputs": [],
   "source": [
    "from equivariant_pose_graph.models.transformer_flow import ResidualFlow_DiffEmbTransformer\n",
    "from equivariant_pose_graph.training.flow_equivariance_training_module_nocentering_eval_init import EquivarianceTestingModule\n",
    "checkpoint_file='/home/exx/media/DataDrive/singularity_chuerp/epg_results/residual_flow/residual_flow_occlusion_gm/2022-06-12_015823/residual_flow_occlusion_gm/2edtw8op/checkpoints/epoch=106-step=13375.ckpt'\n",
    "\n",
    "network = ResidualFlow_DiffEmbTransformer(\n",
    "                    emb_nn='dgcnn', return_flow_component=False, center_feature=True,\n",
    "                    inital_sampling_ratio=1)\n",
    "model = EquivarianceTestingModule(\n",
    "    network,\n",
    "    lr=1e-4,\n",
    "    image_log_period=100,\n",
    "    weight_normalize='softmax',\n",
    "    softmax_temperature = 0.1,\n",
    "    loop=1\n",
    ")\n",
    "\n",
    "model.cuda()\n",
    "model.load_state_dict(torch.load(checkpoint_file)['state_dict'])\n",
    "\n",
    "\n"
   ]
  },
  {
   "cell_type": "code",
   "execution_count": null,
   "id": "c9ea36bf",
   "metadata": {},
   "outputs": [],
   "source": [
    "place_checkpoint_file='/home/exx/media/DataDrive/singularity_chuerp/epg_results/residual_flow/residual_flow_occlusion_mr/2022-06-12_024313/residual_flow_occlusion_mr/27xpsv9f/checkpoints/epoch=39-step=5000.ckpt'\n",
    "place_network = ResidualFlow_DiffEmbTransformer(\n",
    "                    emb_nn='dgcnn', return_flow_component=False, center_feature=True,\n",
    "                    inital_sampling_ratio=1)\n",
    "place_model = EquivarianceTestingModule(\n",
    "    place_network,\n",
    "    lr=1e-4,\n",
    "    image_log_period=100,\n",
    "    weight_normalize='l1',\n",
    "    loop=1\n",
    ")\n",
    "\n",
    "place_model.cuda()\n",
    "place_model.load_state_dict(torch.load(place_checkpoint_file)['state_dict'])"
   ]
  },
  {
   "cell_type": "code",
   "execution_count": null,
   "id": "d94e3381",
   "metadata": {},
   "outputs": [],
   "source": [
    "def load_data(num_points, point_data, action_class, anchor_class):\n",
    "    clouds = point_data['clouds'] \n",
    "    classes = point_data['classes']\n",
    "    print(\"clouds.shape:{}\".format(clouds.shape))\n",
    "    print(\"classes.shape:{}\".format(classes.shape))\n",
    "    points_raw_np = clouds\n",
    "    classes_raw_np = classes\n",
    "\n",
    "    points_action_np = points_raw_np[classes_raw_np == action_class].copy()\n",
    "#     points_action_mean_np = points_action_np.mean(axis=0)\n",
    "#     points_action_np = points_action_np - points_action_mean_np\n",
    "    \n",
    "    points_anchor_np = points_raw_np[classes_raw_np == anchor_class].copy()\n",
    "#     points_anchor_np = points_anchor_np - points_action_mean_np\n",
    "\n",
    "    points_action = torch.from_numpy(points_action_np).float().unsqueeze(0)\n",
    "    points_anchor = torch.from_numpy(points_anchor_np).float().unsqueeze(0)\n",
    "    points_action, points_anchor = subsample(num_points,points_action, points_anchor)\n",
    "    return points_action.cuda(), points_anchor.cuda()\n",
    "\n",
    "def load_data2(num_points, point_data, action_class, anchor_class):\n",
    "    clouds = point_data['clouds'] \n",
    "    classes = point_data['classes']\n",
    "    pred_T_action_transformed = point_data[\"pred_T_action_transformed\"]\n",
    "    points_raw_np = clouds\n",
    "    classes_raw_np = classes\n",
    "\n",
    "    points_action_np = points_raw_np[classes_raw_np == action_class].copy()\n",
    "    points_action_mean_np = points_action_np.mean(axis=0)\n",
    "    pred_T_action_transformed = pred_T_action_transformed+ points_action_mean_np\n",
    "    print(\"points_action_mean_np.shape:{}\".format(points_action_mean_np.shape))\n",
    "    \n",
    "    points_anchor_np = points_raw_np[classes_raw_np == anchor_class].copy()\n",
    "#     points_anchor_np = points_anchor_np - points_action_mean_np\n",
    "\n",
    "    points_action = torch.from_numpy(points_action_np).float().unsqueeze(0)\n",
    "    points_anchor = torch.from_numpy(points_anchor_np).float().unsqueeze(0)\n",
    "    points_action, points_anchor = subsample(num_points,points_action, points_anchor)\n",
    "    return torch.from_numpy(pred_T_action_transformed).cuda()\n",
    "\n",
    "def subsample(num_points,points_action,points_anchor):\n",
    "    if(points_action.shape[1] > num_points):\n",
    "        points_action, _ = sample_farthest_points(points_action, \n",
    "            K=num_points, random_start_point=True)\n",
    "    elif(points_action.shape[1] < num_points):\n",
    "        raise NotImplementedError(f'Action point cloud is smaller than cloud size ({points_action.shape[1]} < {num_points})')\n",
    "\n",
    "    if(points_anchor.shape[1] > num_points):\n",
    "        points_anchor, _ = sample_farthest_points(points_anchor, \n",
    "            K=num_points, random_start_point=True)\n",
    "    elif(points_anchor.shape[1] < num_points):\n",
    "        raise NotImplementedError(f'Anchor point cloud is smaller than cloud size ({points_anchor.shape[1]} < {num_points})')\n",
    "    \n",
    "    return points_action, points_anchor"
   ]
  },
  {
   "cell_type": "code",
   "execution_count": null,
   "id": "b6ee2b02",
   "metadata": {},
   "outputs": [],
   "source": [
    "def plot(points_action, points_anchor):\n",
    "    colors = [\n",
    "    '#1f77b4',  # muted blue\n",
    "    '#ff7f0e',  # safety orange\n",
    "    '#2ca02c',  # cooked asparagus green\n",
    "    '#d62728',  # brick red\n",
    "    '#9467bd',  # muted purple\n",
    "    '#8c564b',  # chestnut brown\n",
    "    '#e377c2',  # raspberry yogurt pink\n",
    "    '#7f7f7f',  # middle gray\n",
    "    '#bcbd22',  # curry yellow-green\n",
    "    '#17becf'   # blue-teal\n",
    "]\n",
    "    skip = 1\n",
    "    points_action_dp = toDisplay(points_action)\n",
    "    points_anchor_dp = toDisplay(points_anchor)\n",
    "    go_data=[\n",
    "        go.Scatter3d(x=points_action_dp[::skip,0], y=points_action_dp[::skip,1], z=points_action_dp[::skip,2], \n",
    "                     mode='markers', marker=dict(size=1, color=colors[0],\n",
    "                     symbol='circle')),\n",
    "        go.Scatter3d(x=points_anchor_dp[::skip,0], y=points_anchor_dp[::skip,1], z=points_anchor_dp[::skip,2], \n",
    "                     mode='markers', marker=dict(size=1, color=colors[1],\n",
    "                     symbol='circle')),\n",
    "    ]\n",
    "    layout = go.Layout(\n",
    "        scene=dict(\n",
    "            aspectmode='data'\n",
    "        )\n",
    "    )\n",
    "\n",
    "    fig = go.Figure(data=go_data, layout=layout)\n",
    "    fig.show()\n",
    "\n",
    "def plot_multi(plist):\n",
    "    colors = [\n",
    "    '#1f77b4',  # muted blue\n",
    "    '#ff7f0e',  # safety orange\n",
    "    '#2ca02c',  # cooked asparagus green\n",
    "    '#d62728',  # brick red\n",
    "    '#9467bd',  # muted purple\n",
    "    '#e377c2',  # raspberry yogurt pink\n",
    "    '#8c564b',  # chestnut brown\n",
    "    '#7f7f7f',  # middle gray\n",
    "    '#bcbd22',  # curry yellow-green\n",
    "    '#17becf'   # blue-teal\n",
    "]\n",
    "    skip = 1\n",
    "    go_data = []\n",
    "    for i in range(len(plist)):\n",
    "        p_dp = toDisplay(plist[i])\n",
    "        plot = go.Scatter3d(x=p_dp[::skip,0], y=p_dp[::skip,1], z=p_dp[::skip,2], \n",
    "                     mode='markers', marker=dict(size=1, color=colors[i],\n",
    "                     symbol='circle'))\n",
    "        go_data.append(plot)\n",
    " \n",
    "    layout = go.Layout(\n",
    "        scene=dict(\n",
    "            aspectmode='data'\n",
    "        )\n",
    "    )\n",
    "\n",
    "    fig = go.Figure(data=go_data, layout=layout)\n",
    "    fig.show()\n",
    "def xyz2homo(xyz):\n",
    "    \"\"\"\n",
    "    xyz:shape 1,num_points, 3\n",
    "    \"\"\"\n",
    "    num_points = xyz.shape[1]\n",
    "    homo = torch.cat([xyz.squeeze(0).detach().cpu(),torch.ones(num_points,1)],dim=-1)\n",
    "    return homo\n",
    "def transform(T,points):\n",
    "    \"\"\"\n",
    "    points: num_points, 4\n",
    "    \"\"\"\n",
    "    points = torch.permute(points,(-1,-2)) # 4,1000\n",
    "    apply_here= torch.from_numpy(T).cuda()@points.cuda()\n",
    "    apply_here = torch.permute(apply_here, (-1, -2))\n",
    "    return apply_here[:,:3]"
   ]
  },
  {
   "cell_type": "code",
   "execution_count": null,
   "id": "a588fdec",
   "metadata": {},
   "outputs": [],
   "source": [
    "num_classes = 3\n",
    "data_idx = 11\n",
    "cloud_types = ['init', 'pre_grasp', 'post_grasp', 'teleport', 'post_place', 'final']\n",
    "cloud_type = 'pre_grasp'\n",
    "# data_path = Path('/home/exx/Documents/ndf_robot/src/ndf_robot/test_grasp_place_demo_12_new') \n",
    "data_path = Path('/home/exx/Documents/ndf_robot/bowl_train_data_ndf_cons_3/renders') \n",
    "point_data = np.load(data_path / f'{data_idx}_{cloud_type}_obj_points.npz', allow_pickle = True)\n",
    " \n",
    "# pred_T_action_transformed_pybullet = torch.from_numpy(point_data[\"pred_T_action_transformed\"]).cuda()\n",
    " \n",
    "# points_mug_pybullet =torch.from_numpy(point_data[\"points_mug\"]).cuda()\n",
    "# points_rack_pybullet = torch.from_numpy(point_data[\"points_rack\"]).cuda()\n",
    "# points_gripper_pybullet = torch.from_numpy(point_data[\"points_gripper\"]).cuda()\n",
    "points_action_init, points_anchor = load_data(num_points=1000, point_data=point_data, action_class= 2, anchor_class= 0)\n",
    "# plot_multi([points_mug_pybullet,points_rack_pybullet,points_gripper_pybullet])\n",
    "\n",
    "plot_multi([points_action_init,points_anchor])"
   ]
  },
  {
   "cell_type": "code",
   "execution_count": null,
   "id": "3fe84610",
   "metadata": {},
   "outputs": [],
   "source": [
    "ans_place = place_model.get_transform(points_mug_pybullet,points_rack_pybullet)\n",
    "pred_T_action_place = ans_place['pred_T_action']\n",
    "mug_placed = pred_T_action_place.transform_points(points_mug_pybullet)\n",
    "plot_multi([points_mug_pybullet,points_rack_pybullet,mug_placed])"
   ]
  },
  {
   "cell_type": "code",
   "execution_count": null,
   "id": "c8a507e1",
   "metadata": {},
   "outputs": [],
   "source": [
    "applied_place = transform(pred_T_action_mat, xyz2homo(points_mug_pybullet))\n",
    "applied_grasp = transform(np.linalg.inv(pred_T_action_mat_mug2gripper), xyz2homo(points_gripper_pybullet))"
   ]
  },
  {
   "cell_type": "code",
   "execution_count": null,
   "id": "eace4ea9",
   "metadata": {},
   "outputs": [],
   "source": [
    "plot_multi([applied_place,points_rack_pybullet])"
   ]
  },
  {
   "cell_type": "code",
   "execution_count": null,
   "id": "7dd0eb61",
   "metadata": {},
   "outputs": [],
   "source": [
    "plot_multi([applied_grasp,points_mug_pybullet])"
   ]
  },
  {
   "cell_type": "code",
   "execution_count": null,
   "id": "48d12ac2",
   "metadata": {},
   "outputs": [],
   "source": [
    "stop"
   ]
  },
  {
   "cell_type": "code",
   "execution_count": null,
   "id": "d2048b7f",
   "metadata": {},
   "outputs": [],
   "source": [
    "from pathlib import Path\n",
    "import torch.nn.functional as F\n",
    "from equivariant_pose_graph.utils.se3 import random_se3\n",
    "\n",
    "num_classes = 3\n",
    "data_idx = 0\n",
    "cloud_types = ['init', 'pre_grasp', 'post_grasp', 'teleport', 'post_place', 'final']\n",
    "cloud_type = 'init'\n",
    "data_path = Path('/home/exx/Documents/ndf_robot/src/ndf_robot/test_grasp_place') \n",
    "point_data = np.load(data_path / f'{data_idx}_{cloud_type}_obj_points.npz', allow_pickle = True)\n",
    "# print(point_data['shapenet_id'])\n",
    "points_action14, points_anchor = load_data(num_points=1000, point_data=point_data, action_class= 2, anchor_class= 0)\n",
    " \n",
    "plot_multi([points_action14,points_anchor])\n",
    "\n",
    "pred_T_action_transformed = load_data2(num_points=1000, point_data=point_data, action_class= 0, anchor_class= 1)\n",
    " \n",
    " \n",
    " "
   ]
  },
  {
   "cell_type": "code",
   "execution_count": null,
   "id": "f75d1e25",
   "metadata": {},
   "outputs": [],
   "source": [
    "num_classes = 3\n",
    "data_idx = 0\n",
    "cloud_types = ['init', 'pre_grasp', 'post_grasp', 'teleport', 'post_place', 'final']\n",
    "cloud_type = 'teleport'\n",
    "data_path = Path('/home/exx/Documents/ndf_robot/src/ndf_robot/heyo1') \n",
    "point_data = np.load(data_path / f'{data_idx}_{cloud_type}_obj_points.npz', allow_pickle = True)\n",
    "# print(point_data['shapenet_id'])\n",
    "points_action14, points_anchor = load_data(num_points=1000, point_data=point_data, action_class= 0, anchor_class= 1)\n",
    " \n",
    "plot_multi([points_action14,points_anchor])\n",
    "\n",
    "pred_T_action_transformed = load_data2(num_points=1000, point_data=point_data, action_class= 0, anchor_class= 1)\n",
    " \n",
    " "
   ]
  },
  {
   "cell_type": "code",
   "execution_count": null,
   "id": "3334199c",
   "metadata": {},
   "outputs": [],
   "source": [
    "from pathlib import Path\n",
    "import torch.nn.functional as F\n",
    "from equivariant_pose_graph.utils.se3 import random_se3\n",
    "\n",
    "num_classes = 3\n",
    "data_idx = 0\n",
    "cloud_types = ['init', 'pre_grasp', 'post_grasp', 'teleport', 'post_place', 'final']\n",
    "cloud_type = 'teleport'\n",
    "data_path = Path('/home/exx/Documents/ndf_robot/src/ndf_robot/newtest5') \n",
    "point_data = np.load(data_path / f'{data_idx}_{cloud_type}_obj_points.npz', allow_pickle = True)\n",
    "# print(point_data['shapenet_id'])\n",
    "points_action5, points_anchor = load_data(num_points=1000, point_data=point_data, action_class= 0, anchor_class= 1)\n",
    "pred_T_action_transformed = load_data2(num_points=1000, point_data=point_data, action_class= 0, anchor_class= 1)\n",
    " \n",
    "# pred_T_action_transformed = torch.from_numpy(point_data[\"pred_T_action_transformed\"]).cuda()-point_data[\"pred_T_action_transformed\"]\n",
    "# print(pred_T_action_transformed.shape)\n",
    "# pred_T_action_transformed[:,:,[0,1]] = pred_T_action_transformed[:,:,[1,0]]\n",
    "plot_multi([points_action5,points_anchor,pred_T_action_transformed])\n",
    " "
   ]
  },
  {
   "cell_type": "code",
   "execution_count": null,
   "id": "561b53a0",
   "metadata": {},
   "outputs": [],
   "source": []
  },
  {
   "cell_type": "code",
   "execution_count": null,
   "id": "08edac7f",
   "metadata": {},
   "outputs": [],
   "source": [
    "num_classes = 3\n",
    "data_idx = 0\n",
    "cloud_types = ['init', 'pre_grasp', 'post_grasp', 'teleport', 'post_place', 'final']\n",
    "cloud_type = 'init'\n",
    "data_path = Path('/home/exx/Documents/ndf_robot/src/ndf_robot/newtest3') \n",
    "point_data = np.load(data_path / f'{data_idx}_{cloud_type}_obj_points.npz', allow_pickle = True)\n",
    "pred_T_action_transformed_pybullet = torch.from_numpy(point_data[\"pred_T_action_transformed\"]).cuda()\n",
    "pred_T_action_mat = point_data[\"pred_T_action_mat\"]\n",
    "points_action_pybullet =torch.from_numpy(point_data[\"points_action\"]).cuda()\n",
    "points_anchor_pybullet = torch.from_numpy(point_data[\"points_anchor\"]).cuda()\n",
    "points_action_init, points_anchor = load_data(num_points=1000, point_data=point_data, action_class= 0, anchor_class= 1)\n",
    "plot_multi([pred_T_action_transformed_pybullet,points_anchor_pybullet,points_action_pybullet])"
   ]
  },
  {
   "cell_type": "code",
   "execution_count": null,
   "id": "99ed9263",
   "metadata": {},
   "outputs": [],
   "source": [
    "num_classes = 3\n",
    "data_idx = 0\n",
    "cloud_types = ['init', 'pre_grasp', 'post_grasp', 'teleport', 'post_place', 'final']\n",
    "cloud_type = 'teleport'\n",
    "data_path = Path('/home/exx/Documents/ndf_robot/src/ndf_robot/newtest3') \n",
    "point_data = np.load(data_path / f'{data_idx}_{cloud_type}_obj_points.npz', allow_pickle = True)\n",
    "points_action_action3, points_anchor = load_data(num_points=1000, point_data=point_data, action_class= 0, anchor_class= 1)\n",
    "# points_action_init[:,:,1]*=-1\n",
    "# points_anchor[:,:,1]*=-1\n",
    "# points_action_init[:,:,[1,2]]=points_action_init[:,:,[2,1]]\n",
    "# points_anchor[:,:,[1,2]]=points_anchor[:,:,[2,1]]\n",
    "# print(pred_T_action_mat)\n",
    "# pred_T_action_mat[[1,2]] = pred_T_action_mat[[2,1]]\n",
    "# print(pred_T_action_mat)\n",
    "# pred_T_action_mat[:3,-1]=pred_T_action_mat[:3,:3].T@pred_T_action_mat[:3,-1]+ pred_T_action_mat[:3,-1]\n",
    "# print(pred_T_action_mat)\n",
    "\n",
    "apply_here_xyz = transform(pred_T_action_mat, xyz2homo(points_action_init))\n",
    "plot_multi([apply_here_xyz,points_anchor, points_action_init,points_action_action3])"
   ]
  },
  {
   "cell_type": "code",
   "execution_count": null,
   "id": "716cecfe",
   "metadata": {},
   "outputs": [],
   "source": [
    "ans = model.get_transform(\n",
    "    points_action_init, points_anchor)  # 1, 4, 4\n",
    "pred_T_action_init = ans[\"pred_T_action\"]"
   ]
  },
  {
   "cell_type": "code",
   "execution_count": null,
   "id": "aa11b06c",
   "metadata": {},
   "outputs": [],
   "source": [
    "pred_T_action_transformed = pred_T_action_init.transform_points(\n",
    "    points_action_init)\n",
    "plot_multi([pred_T_action_transformed,points_anchor, points_action_init])"
   ]
  },
  {
   "cell_type": "code",
   "execution_count": null,
   "id": "4ef942bb",
   "metadata": {},
   "outputs": [],
   "source": [
    "pred_T_action_mat = pred_T_action_init.get_matrix()[0].T.detach().cpu().numpy()\n",
    "apply_here_xyz = transform(pred_T_action_mat, xyz2homo(points_action_init))\n",
    "plot_multi([apply_here_xyz,points_anchor, points_action_init])"
   ]
  },
  {
   "cell_type": "code",
   "execution_count": null,
   "id": "67d11b1d",
   "metadata": {},
   "outputs": [],
   "source": [
    "plot_multi([points_action0,points_anchor,points_action1,points_action3,points_action4,points_action5, points_action7])"
   ]
  },
  {
   "cell_type": "code",
   "execution_count": null,
   "id": "6331152a",
   "metadata": {},
   "outputs": [],
   "source": [
    "plot_multi([points_action3,points_anchor,points_action4,points_action5])"
   ]
  },
  {
   "cell_type": "code",
   "execution_count": null,
   "id": "ebd6dc78",
   "metadata": {},
   "outputs": [],
   "source": [
    "stop"
   ]
  },
  {
   "cell_type": "code",
   "execution_count": null,
   "id": "8c38555f",
   "metadata": {},
   "outputs": [],
   "source": [
    "plot(points_action, points_anchor)"
   ]
  },
  {
   "cell_type": "code",
   "execution_count": null,
   "id": "cf2676ef",
   "metadata": {},
   "outputs": [],
   "source": [
    "plot(pred_T_action_points_action, points_anchor)"
   ]
  },
  {
   "cell_type": "code",
   "execution_count": null,
   "id": "6d44aa89",
   "metadata": {},
   "outputs": [],
   "source": [
    "# Load Teleport\n",
    "from pathlib import Path\n",
    "import torch.nn.functional as F\n",
    "from equivariant_pose_graph.utils.se3 import random_se3\n",
    "\n",
    "num_classes = 3\n",
    "cloud_types = ['init', 'pre_grasp', 'post_grasp', 'teleport', 'post_place', 'final']\n",
    "cloud_type = 'teleport'\n",
    "# data_path = Path('/home/bokorn/src/ndf_robot/notebooks')\n",
    "# point_data = np.load(data_path / f'{data_idx}_obj_points.npz')\n",
    "# data_path = Path('/home/exx/Documents/ndf_robot/train_new_data_3/renders')\n",
    "# data_path = Path('/home/exx/Documents/ndf_robot/src/ndf_robot/debug_place_shapeid_34ae0b61b0d8aaf2d7b20fded0142d7a') \n",
    "data_path = Path('/home/exx/Documents/ndf_robot/src/ndf_robot/place_test_0_my_model_may10_overfit') \n",
    "point_data = np.load(data_path / f'{data_idx}_{cloud_type}_obj_points.npz', allow_pickle = True)\n",
    "print(point_data['shapenet_id'])\n",
    "points_action, points_anchor = load_data(num_points=1024, clouds = point_data['clouds'] ,classes = point_data['classes'], action_class= 0, anchor_class= 1)\n",
    " \n",
    "points_action_trans = points_action\n",
    "points_anchor_trans = points_anchor\n",
    "pred_T_action, pred_T_anchor, pred_T  = place_model(points_action_trans, points_anchor_trans)\n",
    " \n",
    "pred_T_action_points_action = pred_T_action.transform_points(points_action_trans)\n",
    "pred_T_action_points_anchor = pred_T_anchor.transform_points(points_anchor_trans)\n",
    "plot(points_action, points_anchor)\n",
    " \n",
    "for i in range(20):\n",
    "    pred_T_action, pred_T_anchor, pred_T  = place_model(pred_T_action_points_action, points_anchor)\n",
    "    pred_T_action_points_action = pred_T_action.transform_points(pred_T_action_points_action)\n",
    "    \n",
    "    torch.cuda.empty_cache() \n",
    "plot(pred_T_action_points_action, points_anchor)"
   ]
  },
  {
   "cell_type": "code",
   "execution_count": null,
   "id": "e409d523",
   "metadata": {},
   "outputs": [],
   "source": []
  },
  {
   "cell_type": "code",
   "execution_count": null,
   "id": "092a741f",
   "metadata": {},
   "outputs": [],
   "source": []
  },
  {
   "cell_type": "code",
   "execution_count": null,
   "id": "e0dd3c91",
   "metadata": {},
   "outputs": [],
   "source": []
  },
  {
   "cell_type": "code",
   "execution_count": null,
   "id": "74dcd5cc",
   "metadata": {},
   "outputs": [],
   "source": []
  },
  {
   "cell_type": "code",
   "execution_count": null,
   "id": "1de74285",
   "metadata": {},
   "outputs": [],
   "source": []
  },
  {
   "cell_type": "code",
   "execution_count": null,
   "id": "855fca7c",
   "metadata": {},
   "outputs": [],
   "source": []
  }
 ],
 "metadata": {
  "kernelspec": {
   "display_name": "ndf_new",
   "language": "python",
   "name": "ndf_new"
  },
  "language_info": {
   "codemirror_mode": {
    "name": "ipython",
    "version": 3
   },
   "file_extension": ".py",
   "mimetype": "text/x-python",
   "name": "python",
   "nbconvert_exporter": "python",
   "pygments_lexer": "ipython3",
   "version": "3.7.13"
  }
 },
 "nbformat": 4,
 "nbformat_minor": 5
}
