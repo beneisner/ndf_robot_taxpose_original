{
 "cells": [
  {
   "cell_type": "code",
   "execution_count": null,
   "id": "4fc347fe",
   "metadata": {},
   "outputs": [],
   "source": [
    "import sys\n",
    "import os\n",
    "import torch\n",
    "\n",
    "os.environ['CUDA_DEVICE_ORDER']='PCI_BUS_ID'\n",
    "os.environ['CUDA_VISIBLE_DEVICES']='1'\n",
    "\n",
    "import numpy as np\n",
    "import plotly.graph_objects as go\n",
    "import matplotlib.pyplot as plt"
   ]
  },
  {
   "cell_type": "code",
   "execution_count": null,
   "id": "a22f1aa6",
   "metadata": {},
   "outputs": [],
   "source": [
    "def toDisplay(x, target_dim = 2):\n",
    "    while(x.dim() > target_dim):\n",
    "        x = x[0]\n",
    "    return x.detach().cpu().numpy()"
   ]
  },
  {
   "cell_type": "code",
   "execution_count": null,
   "id": "ea342299",
   "metadata": {},
   "outputs": [],
   "source": [
    "import sys\n",
    "sys.path.insert(1, '/home/exx/Documents/equivariant_pose_graph/python')\n",
    "from equivariant_pose_graph.models.transformer_flow import ResidualFlow, ResidualFlow_V1\n",
    "from equivariant_pose_graph.training.flow_equivariance_training_module import EquivarianceTrainingModule\n",
    " \n",
    "# from ndf_robot.eval.test_trained_model_place import load_data\n",
    "from equivariant_pose_graph.utils.display import scatter3d, quiver3d\n",
    "from pytorch3d.transforms import Transform3d"
   ]
  },
  {
   "cell_type": "code",
   "execution_count": null,
   "id": "b6ee2b02",
   "metadata": {},
   "outputs": [],
   "source": [
    "def plot(points_action, points_anchor):\n",
    "    colors = [\n",
    "    '#1f77b4',  # muted blue\n",
    "    '#ff7f0e',  # safety orange\n",
    "    '#2ca02c',  # cooked asparagus green\n",
    "    '#d62728',  # brick red\n",
    "    '#9467bd',  # muted purple\n",
    "    '#8c564b',  # chestnut brown\n",
    "    '#e377c2',  # raspberry yogurt pink\n",
    "    '#7f7f7f',  # middle gray\n",
    "    '#bcbd22',  # curry yellow-green\n",
    "    '#17becf'   # blue-teal\n",
    "]\n",
    "    skip = 1\n",
    "    points_action_dp = toDisplay(points_action)\n",
    "    points_anchor_dp = toDisplay(points_anchor)\n",
    "    go_data=[\n",
    "        go.Scatter3d(x=points_action_dp[::skip,0], y=points_action_dp[::skip,1], z=points_action_dp[::skip,2], \n",
    "                     mode='markers', marker=dict(size=1, color=colors[0],\n",
    "                     symbol='circle')),\n",
    "        go.Scatter3d(x=points_anchor_dp[::skip,0], y=points_anchor_dp[::skip,1], z=points_anchor_dp[::skip,2], \n",
    "                     mode='markers', marker=dict(size=1, color=colors[1],\n",
    "                     symbol='circle')),\n",
    "    ]\n",
    "    layout = go.Layout(\n",
    "        scene=dict(\n",
    "            aspectmode='data'\n",
    "        )\n",
    "    )\n",
    "\n",
    "    fig = go.Figure(data=go_data, layout=layout)\n",
    "    fig.show()"
   ]
  },
  {
   "cell_type": "code",
   "execution_count": null,
   "id": "c764f281",
   "metadata": {},
   "outputs": [],
   "source": [
    "network = ResidualFlow()\n",
    "\n",
    "model = EquivarianceTrainingModule(\n",
    "    network)\n",
    "model.cuda()\n",
    "# checkpoint_file = \"/home/exx/media/DataDrive/singularity_chuerp/equiv_pgraph_logs/train_test_mr_dcpflow_residual0/equiv_dcpflow/version_9/checkpoints/epoch=410-step=51375.ckpt\"\n",
    "# checkpoint_file = \"/home/exx/media/DataDrive/singularity_chuerp/equiv_pgraph_logs/train_test_mr_dcpflow_residual0_attn_trans0.1_overfit/equiv_dcpflow/version_3/saved_checkpoints/epoch=30-step=3875.ckpt\"\n",
    "# checkpoint_file = \"/home/exx/media/DataDrive/singularity_chuerp/equiv_pgraph_logs/train_test_mr_dcpflow_residual1_attn/equiv_dcpflow/version_1/checkpoints/epoch=754-step=94375.ckpt\"\n",
    "checkpoint_file = '/home/exx/media/DataDrive/singularity_chuerp/equiv_pgraph_logs/train_test_mr_dcpflow_residual0_attn_trans0.1_ovefit/equiv_dcpflow/version_26/checkpoints/epoch=2-step=375.ckpt'\n",
    "model.load_state_dict(torch.load(checkpoint_file)['state_dict'])\n",
    " \n",
    "##\n",
    "place_model = model# .eval()"
   ]
  },
  {
   "cell_type": "code",
   "execution_count": null,
   "id": "a7ca125f",
   "metadata": {},
   "outputs": [],
   "source": [
    "pred_T = np.load('/home/exx/Documents/equivariant_pose_graph/transformations/display_pointclouds.npz', allow_pickle=True)\n",
    "pred_T_action = torch.from_numpy(pred_T['pred_T_action'])\n",
    "pred_T_action_transform = Transform3d(matrix=pred_T_action)\n",
    " \n",
    "pred_T_anchor = torch.from_numpy(pred_T['pred_T_anchor'])\n",
    "pred_T_anchor_transform = Transform3d(matrix=pred_T_anchor)\n",
    "points_trans_action = torch.from_numpy(pred_T['points_trans_action'])\n",
    "points_trans_anchor = torch.from_numpy(pred_T['points_trans_anchor'])\n",
    "action_transformed = torch.from_numpy(pred_T['action_transformed'])\n",
    "anchor_transformed = torch.from_numpy(pred_T['anchor_transformed'])\n",
    "img_action = torch.from_numpy(pred_T['img_action'])\n",
    "\n",
    "our_action_transformed = pred_T_action_transform.transform_points(points_trans_action)\n",
    "our_anchor_transformed = pred_T_anchor_transform.transform_points(points_trans_anchor)"
   ]
  },
  {
   "cell_type": "code",
   "execution_count": null,
   "id": "9f6f01a1",
   "metadata": {},
   "outputs": [],
   "source": [
    "%matplotlib inline\n",
    "plt.imshow(img_action)\n",
    "plt.show()"
   ]
  },
  {
   "cell_type": "code",
   "execution_count": null,
   "id": "3bc871fa",
   "metadata": {},
   "outputs": [],
   "source": [
    "plot(our_action_transformed[0], points_trans_anchor[0])"
   ]
  },
  {
   "cell_type": "code",
   "execution_count": null,
   "id": "22d47b3e",
   "metadata": {},
   "outputs": [],
   "source": [
    "plot(our_anchor_transformed[0], points_trans_action[0])"
   ]
  },
  {
   "cell_type": "code",
   "execution_count": null,
   "id": "c60a15c9",
   "metadata": {},
   "outputs": [],
   "source": [
    "pred_T_action, pred_T_anchor, pred_T  = place_model(points_trans_action.cuda(), points_trans_anchor.cuda())\n",
    "our_action_transformed = pred_T_action.transform_points(points_trans_action.cuda())"
   ]
  },
  {
   "cell_type": "code",
   "execution_count": null,
   "id": "b659ae98",
   "metadata": {},
   "outputs": [],
   "source": [
    "torch.allclose(our_action_transformed.detach().cpu(), action_transformed, atol=1e-3)"
   ]
  },
  {
   "cell_type": "code",
   "execution_count": null,
   "id": "c612d75c",
   "metadata": {},
   "outputs": [],
   "source": [
    "plot(our_action_transformed[0], points_trans_anchor[0])"
   ]
  },
  {
   "cell_type": "code",
   "execution_count": null,
   "id": "f2be43e1",
   "metadata": {},
   "outputs": [],
   "source": [
    "stop"
   ]
  },
  {
   "cell_type": "code",
   "execution_count": null,
   "id": "4235220a",
   "metadata": {},
   "outputs": [],
   "source": [
    "\n",
    "# T = np.load('/home/exx/Documents/equivariant_pose_graph/transformations/mug_on_rack.npz', allow_pickle=True)\n",
    "# T0 = T['T0_list'][0]\n",
    "# T1 = T['T1_list'][0]\n",
    "# print(type(T0))\n",
    "# print(T0.shape)\n",
    "# T0 = Transform3d(matrix=T0)\n",
    "# T1 = Transform3d(matrix=T1)\n"
   ]
  },
  {
   "cell_type": "code",
   "execution_count": null,
   "id": "c8e25f22",
   "metadata": {},
   "outputs": [],
   "source": [
    "# pred_T = np.load('/home/exx/Documents/equivariant_pose_graph/transformations/display_pointclouds.npz', allow_pickle=True)\n",
    "# pred_T_action = torch.from_numpy(pred_T['pred_T_action'])\n",
    "# pred_T_action_transform = Transform3d(matrix=pred_T_action)\n",
    " \n",
    "# points_trans_action = torch.from_numpy(pred_T['points_trans_action'])\n",
    "# points_trans_anchor = torch.from_numpy(pred_T['points_trans_anchor'])\n",
    "\n",
    " \n",
    "\n",
    "# action_transformed = torch.from_numpy(pred_T['action_transformed'])\n",
    "# img_action = torch.from_numpy(pred_T['img_action'])\n",
    "\n",
    "# our_action_transformed = pred_T_action_transform.transform_points(points_trans_action)\n",
    "# torch.allclose(our_action_transformed, action_transformed, atol=1e-3)\n",
    "# %matplotlib inline\n",
    "# plt.imshow(img_action)\n",
    "# plt.show()\n",
    "# plot(our_action_transformed[0], points_trans_anchor[0])"
   ]
  },
  {
   "cell_type": "code",
   "execution_count": null,
   "id": "f696a362",
   "metadata": {},
   "outputs": [],
   "source": [
    "torch.allclose(our_action_transformed, action_transformed, atol=1e-3)"
   ]
  },
  {
   "cell_type": "code",
   "execution_count": null,
   "id": "c34a9803",
   "metadata": {},
   "outputs": [],
   "source": [
    "%matplotlib inline\n",
    "plt.imshow(img_action)\n",
    "plt.show()"
   ]
  },
  {
   "cell_type": "code",
   "execution_count": null,
   "id": "3bd1ae44",
   "metadata": {},
   "outputs": [],
   "source": [
    "plot(our_action_transformed[0], points_trans_anchor[0])"
   ]
  },
  {
   "cell_type": "code",
   "execution_count": null,
   "id": "fab95d99",
   "metadata": {},
   "outputs": [],
   "source": [
    "# pred_T = np.load('/home/exx/Documents/equivariant_pose_graph/transformations/mug_on_rack_predT.npz', allow_pickle=True)\n",
    "# pred_T_action_1 = torch.from_numpy(pred_T['pred_T_action'])\n",
    "# pred_T_anchor_1 = torch.from_numpy(pred_T['pred_T_anchor'])\n",
    "\n",
    "# pred_T_action_predT = Transform3d(matrix=pred_T_action_1)\n",
    "# pred_T_anchor_predT= Transform3d(matrix=pred_T_anchor_1)\n",
    " \n",
    "# points_trans_action_predT = torch.from_numpy(pred_T['points_trans_action'])\n",
    "# points_trans_anchor_predT  = torch.from_numpy(pred_T['points_trans_anchor'])\n",
    "\n",
    "# points_action_predT  = torch.from_numpy(pred_T['points_action'])\n",
    "# points_anchor_predT  = torch.from_numpy(pred_T['points_anchor'])\n",
    "\n",
    "# action_transformed_predT = torch.from_numpy(pred_T['action_transformed'])\n",
    "# anchor_transformed_predT = torch.from_numpy(pred_T['anchor_transformed'])\n",
    "\n",
    "# APP_action_transformed_predT = pred_T_action_predT.transform_points(points_trans_action_predT)\n",
    "# APP_anchor_transformed_predT = pred_T_anchor_predT.transform_points(points_trans_anchor_predT)\n",
    " "
   ]
  },
  {
   "cell_type": "code",
   "execution_count": null,
   "id": "21dab217",
   "metadata": {},
   "outputs": [],
   "source": [
    "# display_pointclouds = np.load('/home/exx/Documents/equivariant_pose_graph/transformations/display_pointclouds.npz', allow_pickle=True)\n",
    "# action_transformed = torch.from_numpy(display_pointclouds['action_transformed'])\n",
    "# points_trans_disp_anchor = torch.from_numpy(display_pointclouds['points_trans_disp_anchor'])\n",
    "# anchor_transformed = torch.from_numpy(display_pointclouds['anchor_transformed'])\n",
    "# points_trans_disp_action = torch.from_numpy(display_pointclouds['points_trans_disp_action'])\n",
    "# img_action = display_pointclouds['img_action']\n",
    "# img_anchor = display_pointclouds['img_anchor']\n",
    "\n",
    "# points_trans_action  = torch.from_numpy(display_pointclouds['points_trans_action'])\n",
    "# points_trans_anchor   = torch.from_numpy(display_pointclouds['points_trans_anchor'])\n",
    "\n",
    "# points_action = torch.from_numpy(display_pointclouds['points_action'])\n",
    "# points_anchor   = torch.from_numpy(display_pointclouds['points_anchor'])\n",
    "# pred_T_action = torch.from_numpy(display_pointclouds['pred_T_action'])\n",
    "# pred_T_anchor = torch.from_numpy(display_pointclouds['pred_T_anchor'])\n",
    "\n",
    "# pred_T_action = Transform3d(matrix=pred_T_action)\n",
    "# pred_T_anchor= Transform3d(matrix=pred_T_anchor)\n",
    "# action_transformed_diff = pred_T_action.transform_points(points_trans_action)\n",
    "# anchor_transformed_diff = pred_T_anchor.transform_points(points_trans_anchor)\n",
    " \n",
    "# print(points_trans_disp_action.shape)\n",
    "# print(action_transformed.shape)"
   ]
  },
  {
   "cell_type": "code",
   "execution_count": null,
   "id": "139e68ca",
   "metadata": {},
   "outputs": [],
   "source": [
    " torch.allclose(action_transformed_diff, action_transformed)"
   ]
  },
  {
   "cell_type": "code",
   "execution_count": null,
   "id": "0a634d0e",
   "metadata": {},
   "outputs": [],
   "source": [
    "torch.allclose(action_transformed_predT,action_transformed)"
   ]
  },
  {
   "cell_type": "code",
   "execution_count": null,
   "id": "4e0635c3",
   "metadata": {},
   "outputs": [],
   "source": [
    "torch.allclose(points_trans_action_predT, points_trans_action)"
   ]
  },
  {
   "cell_type": "code",
   "execution_count": null,
   "id": "4bd6220d",
   "metadata": {},
   "outputs": [],
   "source": [
    "print(points_trans_anchor_predT[0].shape)\n",
    "print(points_trans_disp_anchor.shape)"
   ]
  },
  {
   "cell_type": "code",
   "execution_count": null,
   "id": "df49708f",
   "metadata": {},
   "outputs": [],
   "source": [
    "torch.allclose(points_trans_anchor_predT[0],points_trans_disp_anchor)"
   ]
  },
  {
   "cell_type": "code",
   "execution_count": null,
   "id": "0f2714d9",
   "metadata": {},
   "outputs": [],
   "source": [
    "torch.allclose(action_transformed_predT[0],action_transformed)"
   ]
  },
  {
   "cell_type": "code",
   "execution_count": null,
   "id": "f074c515",
   "metadata": {},
   "outputs": [],
   "source": [
    "%matplotlib inline\n",
    "plt.imshow(img_action)\n",
    "plt.show()"
   ]
  },
  {
   "cell_type": "code",
   "execution_count": null,
   "id": "f8db89a0",
   "metadata": {},
   "outputs": [],
   "source": [
    "%matplotlib inline\n",
    "res = scatter3d(\n",
    "            xs = [action_transformed, points_trans_disp_anchor],\n",
    "            cs = ['b', 'r'],\n",
    "        )\n",
    "plt.imshow(res)\n",
    "plt.show()"
   ]
  },
  {
   "cell_type": "code",
   "execution_count": null,
   "id": "93c44c89",
   "metadata": {},
   "outputs": [],
   "source": [
    "plot(action_transformed, points_trans_disp_anchor)"
   ]
  },
  {
   "cell_type": "code",
   "execution_count": null,
   "id": "57e0af44",
   "metadata": {},
   "outputs": [],
   "source": [
    "plot(anchor_transformed, points_trans_disp_action)"
   ]
  },
  {
   "cell_type": "code",
   "execution_count": null,
   "id": "dd91486d",
   "metadata": {},
   "outputs": [],
   "source": [
    "from pathlib import Path\n",
    "import torch.nn.functional as F\n",
    "\n",
    "# num_classes = 3\n",
    "# data_idx = 0\n",
    "# cloud_types = ['init', 'pre_grasp', 'post_grasp', 'teleport', 'post_place', 'final']\n",
    "# cloud_type = 'teleport'\n",
    "# # data_path = Path('/home/bokorn/src/ndf_robot/notebooks')\n",
    "# # point_data = np.load(data_path / f'{data_idx}_obj_points.npz')\n",
    "# # data_path = Path('/home/exx/Documents/ndf_robot/train_new_data_3/renders')\n",
    "# data_path = Path('/home/exx/Documents/ndf_robot/src/ndf_robot/debug_place_shapeid_34ae0b61b0d8aaf2d7b20fded0142d7a')\n",
    "# point_data = np.load(data_path / f'{data_idx}_{cloud_type}_obj_points.npz', allow_pickle = True)\n",
    "\n",
    "# points_raw_np = point_data['clouds']\n",
    "# classes_raw_np = point_data['classes']\n",
    "  \n",
    "# class_0 = 0\n",
    "# class_1 = 1\n",
    "# class_2 = 2\n",
    "# num_classes = 2\n",
    "# mask = np.isin(classes_raw_np, [class_0, class_1])\n",
    "# points_np = points_raw_np[mask].copy()\n",
    "# classes_np = np.where(classes_raw_np[mask] == class_0, 0, 1)\n",
    " \n",
    "# print(classes_np.shape)\n",
    "\n",
    "# # points_np = points_np - points_np[classes_np==class_1].mean(axis=0)\n",
    "# points_np = points_np - points_np[classes_np==class_0].mean(axis=0)\n",
    "\n",
    "# points = torch.from_numpy(points_np).unsqueeze(0).float().cuda()\n",
    "# class_ids = torch.from_numpy(classes_np).unsqueeze(0).long().cuda()\n",
    "# classes = F.one_hot(class_ids, num_classes=num_classes)\n",
    "# points = points[:,::2]\n",
    "# classes = classes[:,::2]\n",
    "# # object_points = []\n",
    "# # for j in range(num_classes):\n",
    "# #     object_points.append(points[class_ids==j,:])\n",
    "# # colors_np = point_data['colors']\n",
    "# print(points_np.shape)\n"
   ]
  },
  {
   "cell_type": "code",
   "execution_count": null,
   "id": "845cc826",
   "metadata": {},
   "outputs": [],
   "source": [
    "# demo\n",
    "point_data = np.load('/home/exx/Documents/ndf_robot/train_data_3/renders/0_teleport_obj_points.npz', allow_pickle = True)\n",
    "points_raw_np = point_data['clouds']\n",
    "classes_raw_np = point_data['classes']\n",
    "\n",
    "class_0 = 0\n",
    "class_1 = 1\n",
    "class_2 = 2\n",
    "num_classes = 2\n",
    "mask = np.isin(classes_raw_np, [class_0, class_1])\n",
    "points_np = points_raw_np[mask].copy()\n",
    "classes_np = np.where(classes_raw_np[mask] == class_0, 0, 1)\n",
    " \n",
    "print(classes_np.shape)\n",
    "\n",
    "# points_np = points_np - points_np[classes_np==class_1].mean(axis=0)\n",
    "# points_np = points_np - points_np[classes_np==class_0].mean(axis=0)\n",
    "\n",
    "points = torch.from_numpy(points_np).unsqueeze(0).float().cuda()\n",
    "class_ids = torch.from_numpy(classes_np).unsqueeze(0).long().cuda()\n",
    "classes = F.one_hot(class_ids, num_classes=num_classes)\n",
    "points = points[:,::2]\n",
    "classes = classes[:,::2]\n",
    "\n",
    "skip = 1\n",
    " \n",
    "go_data=[\n",
    "    go.Scatter3d(x=points_np[::skip,0], y=points_np[::skip,1], z=points_np[::skip,2], \n",
    "                 mode='markers', marker=dict(size=1, color=classes_np[::skip],\n",
    "                 symbol='circle')),\n",
    "]\n",
    "layout = go.Layout(\n",
    "    scene=dict(\n",
    "        aspectmode='data'\n",
    "    )\n",
    ")\n",
    "\n",
    "fig = go.Figure(data=go_data, layout=layout)\n",
    "fig.show()"
   ]
  },
  {
   "cell_type": "code",
   "execution_count": null,
   "id": "167e24c2",
   "metadata": {},
   "outputs": [],
   "source": [
    "plot(action_transformed[0], points_anchor[0])"
   ]
  },
  {
   "cell_type": "code",
   "execution_count": null,
   "id": "d2048b7f",
   "metadata": {},
   "outputs": [],
   "source": [
    "points_action_pre, points_anchor_pre = load_data(num_points=1024, clouds = point_data['clouds'] ,classes = point_data['classes'], action_class= 0, anchor_class= 1)\n",
    "T0 = T0.to(device =  points_action_pre.device)\n",
    "T1 = T1.to(device =  points_anchor_pre.device)\n",
    "points_action = T0.transform_points(points_action_pre)\n",
    "points_anchor = T1.transform_points(points_anchor_pre)\n",
    " \n",
    "pred_T_action, pred_T_anchor, pred_T  = place_model(points_action, points_anchor)\n",
    "\n",
    "pred_T_action_points_action = pred_T_action.transform_points(points_action)\n",
    "pred_T_action_points_anchor = pred_T_anchor.transform_points(points_anchor)\n",
    "# pred_T_points_action = pred_T.transform_points(points_action)\n",
    "# pred_T_action_inverse_points_action = pred_T_anchor.inverse().transform_points(points_action)"
   ]
  },
  {
   "cell_type": "code",
   "execution_count": null,
   "id": "ace6bcf1",
   "metadata": {},
   "outputs": [],
   "source": [
    "plot(points_action_pre, points_anchor_pre)"
   ]
  },
  {
   "cell_type": "code",
   "execution_count": null,
   "id": "bb170f60",
   "metadata": {},
   "outputs": [],
   "source": [
    "plot(points_action, points_anchor)"
   ]
  },
  {
   "cell_type": "code",
   "execution_count": null,
   "id": "07ee39d9",
   "metadata": {},
   "outputs": [],
   "source": [
    "plot(pred_T_action_points_action, points_anchor)"
   ]
  },
  {
   "cell_type": "code",
   "execution_count": null,
   "id": "8c38555f",
   "metadata": {},
   "outputs": [],
   "source": [
    "plot(points_action, points_anchor)"
   ]
  },
  {
   "cell_type": "code",
   "execution_count": null,
   "id": "7f46800e",
   "metadata": {},
   "outputs": [],
   "source": [
    "plot(pred_T_action_points_action, points_anchor)"
   ]
  },
  {
   "cell_type": "code",
   "execution_count": null,
   "id": "1b0b9db0",
   "metadata": {},
   "outputs": [],
   "source": [
    "plot(points_action, pred_T_action_points_anchor)"
   ]
  },
  {
   "cell_type": "code",
   "execution_count": null,
   "id": "46c9b378",
   "metadata": {},
   "outputs": [],
   "source": [
    "points_action, points_anchor = load_data(num_points=1024, clouds = point_data['clouds'] ,classes = point_data['classes'], action_class= 0, anchor_class= 1)\n",
    "pred_T_action, pred_T_anchor, pred_T  = place_model(points_action, points_anchor)\n",
    " \n",
    "pred_T_action_points_action = pred_T_action.transform_points(points_action)\n",
    "for i in range(20):\n",
    "    pred_T_action, pred_T_anchor, pred_T  = place_model(pred_T_action_points_action, points_anchor)\n",
    "    pred_T_action_points_action = pred_T_action.transform_points(pred_T_action_points_action)\n",
    "    plot(pred_T_action_points_action, points_anchor)"
   ]
  },
  {
   "cell_type": "code",
   "execution_count": null,
   "id": "ca161073",
   "metadata": {},
   "outputs": [],
   "source": []
  },
  {
   "cell_type": "code",
   "execution_count": null,
   "id": "ac7b7be4",
   "metadata": {},
   "outputs": [],
   "source": []
  },
  {
   "cell_type": "code",
   "execution_count": null,
   "id": "d90e897f",
   "metadata": {},
   "outputs": [],
   "source": []
  }
 ],
 "metadata": {
  "kernelspec": {
   "display_name": "ndf_new",
   "language": "python",
   "name": "ndf_new"
  },
  "language_info": {
   "codemirror_mode": {
    "name": "ipython",
    "version": 3
   },
   "file_extension": ".py",
   "mimetype": "text/x-python",
   "name": "python",
   "nbconvert_exporter": "python",
   "pygments_lexer": "ipython3",
   "version": "3.7.13"
  }
 },
 "nbformat": 4,
 "nbformat_minor": 5
}
