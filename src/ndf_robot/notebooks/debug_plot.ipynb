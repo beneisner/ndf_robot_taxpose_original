{
 "cells": [
  {
   "cell_type": "code",
   "execution_count": null,
   "id": "4fc347fe",
   "metadata": {},
   "outputs": [],
   "source": [
    "import sys\n",
    "import os\n",
    "import torch\n",
    "\n",
    "\n",
    "os.environ['CUDA_DEVICE_ORDER']='PCI_BUS_ID'\n",
    "os.environ['CUDA_VISIBLE_DEVICES']='0'\n",
    "\n",
    "import numpy as np\n",
    "import plotly.graph_objects as go\n",
    "import matplotlib.pyplot as plt"
   ]
  },
  {
   "cell_type": "code",
   "execution_count": null,
   "id": "c2cd129f",
   "metadata": {},
   "outputs": [],
   "source": [
    "def toDisplay(x, target_dim = 2):\n",
    "    while(x.dim() > target_dim):\n",
    "        x = x[0]\n",
    "    return x.detach().cpu().numpy()"
   ]
  },
  {
   "cell_type": "code",
   "execution_count": null,
   "id": "ea342299",
   "metadata": {},
   "outputs": [],
   "source": [
    "import sys\n",
    "sys.path.insert(1, '/home/exx/Documents/equivariant_pose_graph/python')\n",
    "from equivariant_pose_graph.utils.display import scatter3d, quiver3d"
   ]
  },
  {
   "cell_type": "code",
   "execution_count": null,
   "id": "b6ee2b02",
   "metadata": {},
   "outputs": [],
   "source": [
    "def plot(points_action, points_anchor):\n",
    "    colors = [\n",
    "    '#1f77b4',  # muted blue\n",
    "    '#ff7f0e',  # safety orange\n",
    "    '#2ca02c',  # cooked asparagus green\n",
    "    '#d62728',  # brick red\n",
    "    '#9467bd',  # muted purple\n",
    "    '#8c564b',  # chestnut brown\n",
    "    '#e377c2',  # raspberry yogurt pink\n",
    "    '#7f7f7f',  # middle gray\n",
    "    '#bcbd22',  # curry yellow-green\n",
    "    '#17becf'   # blue-teal\n",
    "]\n",
    "    skip = 1\n",
    "    points_action_dp = toDisplay(points_action)\n",
    "    points_anchor_dp = toDisplay(points_anchor)\n",
    "    go_data=[\n",
    "        go.Scatter3d(x=points_action_dp[::skip,0], y=points_action_dp[::skip,1], z=points_action_dp[::skip,2], \n",
    "                     mode='markers', marker=dict(size=1, color=colors[0],\n",
    "                     symbol='circle')),\n",
    "        go.Scatter3d(x=points_anchor_dp[::skip,0], y=points_anchor_dp[::skip,1], z=points_anchor_dp[::skip,2], \n",
    "                     mode='markers', marker=dict(size=1, color=colors[1],\n",
    "                     symbol='circle')),\n",
    "    ]\n",
    "    layout = go.Layout(\n",
    "        scene=dict(\n",
    "            aspectmode='data'\n",
    "        )\n",
    "    )\n",
    "\n",
    "    fig = go.Figure(data=go_data, layout=layout)\n",
    "    fig.show()"
   ]
  },
  {
   "cell_type": "code",
   "execution_count": null,
   "id": "4235220a",
   "metadata": {},
   "outputs": [],
   "source": [
    "from pytorch3d.transforms import Transform3d\n",
    " "
   ]
  },
  {
   "cell_type": "code",
   "execution_count": null,
   "id": "787b0f12",
   "metadata": {},
   "outputs": [],
   "source": [
    "pred_T = np.load('/home/exx/Documents/equivariant_pose_graph/transformations/mug_on_rack_predT.npz', allow_pickle=True)\n",
    "pred_T_action = torch.from_numpy(pred_T['pred_T_action'])\n",
    "pred_T_action_transform = Transform3d(matrix=pred_T_action)\n",
    " \n",
    "points_trans_action = torch.from_numpy(pred_T['points_trans_action'])\n",
    "points_trans_anchor = torch.from_numpy(pred_T['points_trans_anchor'])\n",
    "\n",
    "action_transformed = torch.from_numpy(pred_T['action_transformed'])\n",
    "img = torch.from_numpy(pred_T['img'])\n",
    "\n",
    "our_action_transformed = pred_T_action_transform.transform_points(points_trans_action)\n",
    " "
   ]
  },
  {
   "cell_type": "code",
   "execution_count": null,
   "id": "21935892",
   "metadata": {},
   "outputs": [],
   "source": [
    "torch.allclose(our_action_transformed, action_transformed, atol=1e-3)"
   ]
  },
  {
   "cell_type": "code",
   "execution_count": null,
   "id": "36495660",
   "metadata": {},
   "outputs": [],
   "source": [
    "print(our_action_transformed.shape)"
   ]
  },
  {
   "cell_type": "code",
   "execution_count": null,
   "id": "ac7b7be4",
   "metadata": {},
   "outputs": [],
   "source": [
    "%matplotlib inline\n",
    "plt.imshow(img)\n",
    "plt.show()"
   ]
  },
  {
   "cell_type": "code",
   "execution_count": null,
   "id": "d90e897f",
   "metadata": {},
   "outputs": [],
   "source": [
    "plot(our_action_transformed[0], points_trans_anchor[0])"
   ]
  },
  {
   "cell_type": "code",
   "execution_count": null,
   "id": "e35c17dc",
   "metadata": {},
   "outputs": [],
   "source": []
  }
 ],
 "metadata": {
  "kernelspec": {
   "display_name": "pytorch3d_38",
   "language": "python",
   "name": "pytorch3d_38"
  },
  "language_info": {
   "codemirror_mode": {
    "name": "ipython",
    "version": 3
   },
   "file_extension": ".py",
   "mimetype": "text/x-python",
   "name": "python",
   "nbconvert_exporter": "python",
   "pygments_lexer": "ipython3",
   "version": "3.8.13"
  }
 },
 "nbformat": 4,
 "nbformat_minor": 5
}
