{
 "cells": [
  {
   "cell_type": "code",
   "execution_count": null,
   "id": "c952cdde",
   "metadata": {},
   "outputs": [],
   "source": [
    "import sys\n",
    "import os\n",
    "import torch\n",
    "\n",
    "os.environ['CUDA_DEVICE_ORDER']='PCI_BUS_ID'\n",
    "os.environ['CUDA_VISIBLE_DEVICES']='0'\n",
    "\n",
    "import numpy as np\n",
    "import plotly.graph_objects as go\n",
    "\n",
    "from ndf_robot.training.dataio import JointOccTrainDataset\n",
    "dataset = JointOccTrainDataset(obj_class = ['mug'])\n",
    "\n",
    "\n",
    "shapenet_root = \"/home/exx/datasets/shapenet/ShapeNetCoreV2\"\n",
    " \n"
   ]
  },
  {
   "cell_type": "code",
   "execution_count": null,
   "id": "48a4cfdd",
   "metadata": {},
   "outputs": [],
   "source": [
    "def toDisplay(x, target_dim = 2):\n",
    "    while(x.dim() > target_dim):\n",
    "        x = x[0]\n",
    "    return x.detach().cpu().numpy()\n",
    "def plot_multi(plist):\n",
    "    colors = [\n",
    "    '#1f77b4',  # muted blue\n",
    "    '#ff7f0e',  # safety orange\n",
    "    '#2ca02c',  # cooked asparagus green\n",
    "    '#d62728',  # brick red\n",
    "    '#9467bd',  # muted purple\n",
    "    '#e377c2',  # raspberry yogurt pink\n",
    "    '#8c564b',  # chestnut brown\n",
    "    '#7f7f7f',  # middle gray\n",
    "    '#bcbd22',  # curry yellow-green\n",
    "    '#17becf'   # blue-teal\n",
    "]\n",
    "    skip = 1\n",
    "    go_data = []\n",
    "    for i in range(len(plist)):\n",
    "        p_dp = toDisplay(plist[i])\n",
    "        plot = go.Scatter3d(x=p_dp[::skip,0], y=p_dp[::skip,1], z=p_dp[::skip,2], \n",
    "                     mode='markers', marker=dict(size=1, color=colors[i],\n",
    "                     symbol='circle'))\n",
    "        go_data.append(plot)\n",
    " \n",
    "    layout = go.Layout(\n",
    "        scene=dict(\n",
    "            aspectmode='data'\n",
    "        )\n",
    "    )\n",
    "\n",
    "    fig = go.Figure(data=go_data, layout=layout)\n",
    "    fig.show()"
   ]
  },
  {
   "cell_type": "code",
   "execution_count": null,
   "id": "319a3b9d",
   "metadata": {},
   "outputs": [],
   "source": [
    "res, dic = dataset.get_item(500)"
   ]
  },
  {
   "cell_type": "code",
   "execution_count": null,
   "id": "adff05d1",
   "metadata": {},
   "outputs": [],
   "source": [
    "plot_multi([res['point_cloud']])"
   ]
  },
  {
   "cell_type": "code",
   "execution_count": null,
   "id": "bdacec8e",
   "metadata": {},
   "outputs": [],
   "source": [
    "print(res['point_cloud'].shape)"
   ]
  },
  {
   "cell_type": "code",
   "execution_count": null,
   "id": "65e9c469",
   "metadata": {},
   "outputs": [],
   "source": [
    "print(res['coords'].shape)"
   ]
  },
  {
   "cell_type": "code",
   "execution_count": null,
   "id": "c92a8687",
   "metadata": {},
   "outputs": [],
   "source": [
    "print(res['intrinsics'].shape)"
   ]
  },
  {
   "cell_type": "code",
   "execution_count": null,
   "id": "e7b54e5c",
   "metadata": {},
   "outputs": [],
   "source": [
    "print(res['cam_poses'].shape)"
   ]
  },
  {
   "cell_type": "code",
   "execution_count": null,
   "id": "9012a9ee",
   "metadata": {},
   "outputs": [],
   "source": []
  }
 ],
 "metadata": {
  "kernelspec": {
   "display_name": "ndf_new",
   "language": "python",
   "name": "ndf_new"
  },
  "language_info": {
   "codemirror_mode": {
    "name": "ipython",
    "version": 3
   },
   "file_extension": ".py",
   "mimetype": "text/x-python",
   "name": "python",
   "nbconvert_exporter": "python",
   "pygments_lexer": "ipython3",
   "version": "3.7.13"
  }
 },
 "nbformat": 4,
 "nbformat_minor": 5
}
