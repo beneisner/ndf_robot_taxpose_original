{
 "cells": [
  {
   "cell_type": "code",
   "execution_count": null,
   "id": "651a8504",
   "metadata": {},
   "outputs": [],
   "source": [
    "import pytorch3d\n",
    "from pytorch3d.transforms import Transform3d, Rotate, Translate, \\\n",
    "    rotation_6d_to_matrix, axis_angle_to_matrix, so3_rotation_angle\n",
    "# from pytorch3d.transforms import se3_exp_map\n",
    "\n",
    "import torch\n",
    "import torch.nn as nn\n",
    "import numpy as np\n",
    "from torch.nn import functional as F\n",
    "def random_se3(N, rot_var=np.pi/180*120, trans_var=0.1, device=None, fix_random=False):\n",
    "    axis_angle_random = torch.randn(N, 3, device=device)\n",
    "    rot_ratio = torch.rand(1).item()*rot_var / \\\n",
    "        torch.norm(axis_angle_random, dim=1).max().item()\n",
    "    constrained_axix_angle = rot_ratio*axis_angle_random  # max angle is rot_var\n",
    "    R = axis_angle_to_matrix(constrained_axix_angle)\n",
    "    random_translation = torch.randn(N, 3, device=device)\n",
    "    translation_ratio = trans_var / \\\n",
    "        torch.norm(random_translation, dim=1).max().item()\n",
    "    t = torch.rand(1).item()*translation_ratio*random_translation\n",
    "    return Rotate(R, device=device).translate(t)\n",
    "def pure_translation_se3(N, t, device=None):\n",
    "    \"\"\"\n",
    "    Args\n",
    "        t: torch tensor of shape (3)\n",
    "    \"\"\"\n",
    "    axis = torch.tensor([0, 0, 1])\n",
    "    axis_angle = 0.*axis\n",
    "    axis_angle = axis_angle.unsqueeze(0)  # (1,3)\n",
    "    axis_angle = torch.repeat_interleave(axis_angle, N, dim=0)  # (N,3)\n",
    "    R = axis_angle_to_matrix(axis_angle.to(device))  # identity\n",
    "    assert torch.allclose(\n",
    "        torch.eye(3).to(device), R[0]), \"R should be identity for pure translation se3\"\n",
    "    t = torch.repeat_interleave(t.unsqueeze(0), N, dim=0).to(device)  # N,3\n",
    "    return Rotate(R, device=device).translate(t)\n",
    "def get_rt(T):\n",
    "    t = T.get_matrix()[:, 3, :3]  # B,3\n",
    "    t_norm = torch.norm(t, dim=1)  # B\n",
    "    angle_rad_T = so3_rotation_angle(\n",
    "        T.get_matrix()[:, :3, :3], eps=1e-2)*180/np.pi\n",
    "    return angle_rad_T, t_norm\n",
    "T1 = random_se3(1, rot_var = 40*np.pi/180, trans_var = 0.1).cuda()\n",
    "angle_rad_T, t_norm = get_rt(T1) \n",
    "print(angle_rad_T,t_norm)\n",
    "T2 = random_se3(1, rot_var = 130*np.pi/180, trans_var = 0.1).cuda()\n",
    "angle_rad_T2, t_norm2 = get_rt(T2) \n",
    "print(angle_rad_T2,t_norm2)\n",
    "T3 = random_se3(1).cuda()\n",
    "angle_rad_T3, t_norm3 = get_rt(T3) \n",
    "print(angle_rad_T3,t_norm3)\n"
   ]
  },
  {
   "cell_type": "code",
   "execution_count": null,
   "id": "4fc347fe",
   "metadata": {},
   "outputs": [],
   "source": [
    "import sys\n",
    "import os\n",
    "import torch\n",
    "\n",
    "os.environ['CUDA_DEVICE_ORDER']='PCI_BUS_ID'\n",
    "os.environ['CUDA_VISIBLE_DEVICES']='0'\n",
    "\n",
    "import numpy as np\n",
    "import plotly.graph_objects as go"
   ]
  },
  {
   "cell_type": "code",
   "execution_count": null,
   "id": "a22f1aa6",
   "metadata": {},
   "outputs": [],
   "source": [
    "def toDisplay(x, target_dim = 2):\n",
    "    while(x.dim() > target_dim):\n",
    "        x = x[0]\n",
    "    return x.detach().cpu().numpy()"
   ]
  },
  {
   "cell_type": "code",
   "execution_count": null,
   "id": "ea342299",
   "metadata": {},
   "outputs": [],
   "source": [
    "import sys\n",
    "sys.path.insert(1, '/home/exx/Documents/equivariant_pose_graph/python')\n",
    "from equivariant_pose_graph.models.transformer_flow import ResidualFlow, ResidualFlow_DiffEmbTransformerVis\n",
    " \n",
    "from equivariant_pose_graph.training.flow_equivariance_training_module_nocentering_vis import EquivarianceTrainingModule\n",
    "# from ndf_robot.eval.test_trained_model_place import load_data\n",
    "from pytorch3d.ops import sample_farthest_points"
   ]
  },
  {
   "cell_type": "code",
   "execution_count": null,
   "id": "c764f281",
   "metadata": {},
   "outputs": [],
   "source": [
    "from equivariant_pose_graph.models.transformer_flow import ResidualFlow_DiffEmbTransformer\n",
    "from equivariant_pose_graph.training.flow_equivariance_training_module_nocentering_eval_init import EquivarianceTestingModule\n",
    "checkpoint_file='/home/exx/media/DataDrive/singularity_chuerp/epg_results/residual_flow/residual_flow_occlusion_mr_refinement/2022-06-14_130306/residual_flow_occlusion_mr_refinement/dysnpvtn/checkpoints/epoch_127_global_step_16000.ckpt'\n",
    "\n",
    "network = ResidualFlow_DiffEmbTransformerVis(\n",
    "    emb_dims=4,\n",
    "                    emb_nn='dgcnn', return_flow_component=False, center_feature=True,\n",
    "                    inital_sampling_ratio=1, pred_weight= True, residual_on=True)\n",
    "model = EquivarianceTrainingModule(\n",
    "    network,\n",
    "    lr=1e-4,\n",
    "    image_log_period=100,\n",
    "    weight_normalize='l1',\n",
    "    smoothness_weight = 0.1,\n",
    "    consistency_weight = 1,\n",
    "    sigmoid_on=True,\n",
    "    \n",
    ")\n",
    "\n",
    "model.cuda()\n",
    "model.load_state_dict(torch.load(checkpoint_file)['state_dict'])\n",
    " \n"
   ]
  },
  {
   "cell_type": "code",
   "execution_count": null,
   "id": "d94e3381",
   "metadata": {},
   "outputs": [],
   "source": [
    "def load_data(num_points, point_data, action_class, anchor_class):\n",
    "    clouds = point_data['clouds'] \n",
    "    classes = point_data['classes']\n",
    "    points_raw_np = clouds\n",
    "    classes_raw_np = classes\n",
    "\n",
    "    points_action_np = points_raw_np[classes_raw_np == action_class].copy()\n",
    "    points_action_mean_np = points_action_np.mean(axis=0)\n",
    "    points_action_np = points_action_np - points_action_mean_np\n",
    "    \n",
    "    points_anchor_np = points_raw_np[classes_raw_np == anchor_class].copy()\n",
    "    points_anchor_np = points_anchor_np - points_action_mean_np\n",
    "\n",
    "    points_action = torch.from_numpy(points_action_np).float().unsqueeze(0)\n",
    "    points_anchor = torch.from_numpy(points_anchor_np).float().unsqueeze(0)\n",
    "    points_action, points_anchor = subsample(num_points,points_action, points_anchor)\n",
    "    return points_action.cuda(), points_anchor.cuda(), points_action_mean_np\n",
    "\n",
    "def load_data2(num_points, point_data, action_class, anchor_class):\n",
    "    clouds = point_data['clouds'] \n",
    "    classes = point_data['classes']\n",
    "    pred_T_action_transformed = point_data[\"pred_T_action_transformed\"]\n",
    "    points_raw_np = clouds\n",
    "    classes_raw_np = classes\n",
    "\n",
    "    points_action_np = points_raw_np[classes_raw_np == action_class].copy()\n",
    "    points_action_mean_np = points_action_np.mean(axis=0)\n",
    "    pred_T_action_transformed = pred_T_action_transformed+ points_action_mean_np\n",
    "    print(\"points_action_mean_np.shape:{}\".format(points_action_mean_np.shape))\n",
    "    \n",
    "    points_anchor_np = points_raw_np[classes_raw_np == anchor_class].copy()\n",
    "#     points_anchor_np = points_anchor_np - points_action_mean_np\n",
    "\n",
    "    points_action = torch.from_numpy(points_action_np).float().unsqueeze(0)\n",
    "    points_anchor = torch.from_numpy(points_anchor_np).float().unsqueeze(0)\n",
    "    points_action, points_anchor = subsample(num_points,points_action, points_anchor)\n",
    "    return torch.from_numpy(pred_T_action_transformed).cuda()\n",
    "\n",
    "def subsample(num_points,points_action,points_anchor):\n",
    "    if(points_action.shape[1] > num_points):\n",
    "        points_action, _ = sample_farthest_points(points_action, \n",
    "            K=num_points, random_start_point=True)\n",
    "    elif(points_action.shape[1] < num_points):\n",
    "        raise NotImplementedError(f'Action point cloud is smaller than cloud size ({points_action.shape[1]} < {num_points})')\n",
    "\n",
    "    if(points_anchor.shape[1] > num_points):\n",
    "        points_anchor, _ = sample_farthest_points(points_anchor, \n",
    "            K=num_points, random_start_point=True)\n",
    "    elif(points_anchor.shape[1] < num_points):\n",
    "        raise NotImplementedError(f'Anchor point cloud is smaller than cloud size ({points_anchor.shape[1]} < {num_points})')\n",
    "    \n",
    "    return points_action, points_anchor"
   ]
  },
  {
   "cell_type": "code",
   "execution_count": null,
   "id": "b6ee2b02",
   "metadata": {},
   "outputs": [],
   "source": [
    "def plot(points_action, points_anchor):\n",
    "    colors = [\n",
    "    '#1f77b4',  # muted blue\n",
    "    '#ff7f0e',  # safety orange\n",
    "    '#2ca02c',  # cooked asparagus green\n",
    "    '#d62728',  # brick red\n",
    "    '#9467bd',  # muted purple\n",
    "    '#8c564b',  # chestnut brown\n",
    "    '#e377c2',  # raspberry yogurt pink\n",
    "    '#7f7f7f',  # middle gray\n",
    "    '#bcbd22',  # curry yellow-green\n",
    "    '#17becf'   # blue-teal\n",
    "]\n",
    "    skip = 1\n",
    "    points_action_dp = toDisplay(points_action)\n",
    "    points_anchor_dp = toDisplay(points_anchor)\n",
    "    go_data=[\n",
    "        go.Scatter3d(x=points_action_dp[::skip,0], y=points_action_dp[::skip,1], z=points_action_dp[::skip,2], \n",
    "                     mode='markers', marker=dict(size=1, color=colors[0],\n",
    "                     symbol='circle')),\n",
    "        go.Scatter3d(x=points_anchor_dp[::skip,0], y=points_anchor_dp[::skip,1], z=points_anchor_dp[::skip,2], \n",
    "                     mode='markers', marker=dict(size=1, color=colors[1],\n",
    "                     symbol='circle')),\n",
    "    ]\n",
    "    layout = go.Layout(\n",
    "        scene=dict(\n",
    "            aspectmode='data'\n",
    "        )\n",
    "    )\n",
    "\n",
    "    fig = go.Figure(data=go_data, layout=layout)\n",
    "    fig.show()\n",
    "    \n",
    "def toDisplay(x, target_dim = 2):\n",
    "    while(x.dim() > target_dim):\n",
    "        x = x[0]\n",
    "    return x.detach().cpu().numpy()\n",
    "\n",
    "def plot_multi(plist, idx=None):\n",
    "    colors = [\n",
    "        '#ee6677', # light red\n",
    "        '#bb5566', # dark red\n",
    "        '#66ccee',  # cyan\n",
    "        '#1f77b4',  # muted blue\n",
    "    '#bb5566', # dark red\n",
    "    '#ff7f0e',  # safety orange\n",
    "    '#2ca02c',  # cooked asparagus green\n",
    "    '#d62728',  # brick red\n",
    "    '#9467bd',  # muted purple\n",
    "\n",
    "    '#8c564b',  # chestnut brown\n",
    "    '#7f7f7f',  # middle gray\n",
    "    '#bcbd22',  # curry yellow-green\n",
    "    '#17becf'   # blue-teal\n",
    "]\n",
    "    if idx == None:\n",
    "        idx = list(np.arange(len(plist)))\n",
    "    skip = 1\n",
    "    go_data = []\n",
    "    for i in range(len(plist)):\n",
    "        p_dp = toDisplay(plist[i])\n",
    "        plot = go.Scatter3d(x=p_dp[::skip,0], y=p_dp[::skip,1], z=p_dp[::skip,2], \n",
    "                     mode='markers', marker=dict(size=1, color=colors[idx[i]],\n",
    "                     symbol='circle'))\n",
    "        go_data.append(plot)\n",
    " \n",
    "    layout = go.Layout(\n",
    "        xaxis=dict(\n",
    "    showgrid= False, # thin lines in the background\n",
    "    zeroline= False, # thick line at x=0\n",
    "    visible= False,  # numbers below\n",
    "#     plot_bgcolor=\"rgba(0,0,0,0)\"\n",
    " \n",
    " \n",
    "    ), \n",
    "            yaxis=dict(\n",
    "    showgrid= False, # thin lines in the background\n",
    "    zeroline= False, # thick line at x=0\n",
    "    visible= False,  # numbers below\n",
    " \n",
    " \n",
    "    ), \n",
    " \n",
    "        scene=dict(\n",
    "            aspectmode='data',\n",
    "   \n",
    "        )\n",
    "    )\n",
    "\n",
    "    fig = go.Figure(data=go_data, layout=layout)\n",
    " \n",
    "    fig.update_layout(#plot_bgcolor='rgb(12,163,135)',\n",
    "                      #paper_bgcolor='rgb(12,163,135)'\n",
    "                      #coloraxis={\"colorbar\": {\"x\": -0.2, \"len\": 0.5, \"y\": 0.8}}, #I think this is for contours\n",
    "                     scene = dict(\n",
    "                                    xaxis = dict(\n",
    "                                         backgroundcolor=\"rgba(0, 0, 0,0)\",\n",
    "                                         gridcolor=\"white\",\n",
    "                                         showbackground=True,\n",
    "                                         zerolinecolor=\"white\",\n",
    "                                        showticklabels = False),\n",
    "                                    yaxis = dict(\n",
    "                                        backgroundcolor=\"rgba(0, 0, 0,0)\",\n",
    "                                        gridcolor=\"white\",\n",
    "                                        showbackground=True,\n",
    "                                        zerolinecolor=\"white\",\n",
    "                                    showticklabels = False),\n",
    "                                    zaxis = dict(\n",
    "                                        backgroundcolor=\"rgba(0, 0, 0,0)\",\n",
    "                                        gridcolor=\"white\",\n",
    "                                        showbackground=True,\n",
    "                                        zerolinecolor=\"white\",\n",
    "                                    showticklabels = False),),\n",
    "                     )\n",
    "    fig.show()\n",
    "def xyz2homo(xyz):\n",
    "    \"\"\"\n",
    "    xyz:shape 1,num_points, 3\n",
    "    \"\"\"\n",
    "    num_points = xyz.shape[1]\n",
    "    homo = torch.cat([xyz.squeeze(0).detach().cpu(),torch.ones(num_points,1)],dim=-1)\n",
    "    return homo\n",
    "def transform(T,points):\n",
    "    \"\"\"\n",
    "    points: num_points, 4\n",
    "    \"\"\"\n",
    "    points = torch.permute(points,(-1,-2)) # 4,1000\n",
    "    apply_here= torch.from_numpy(T).cuda()@points.cuda()\n",
    "    apply_here = torch.permute(apply_here, (-1, -2))\n",
    "    return apply_here[:,:3]"
   ]
  },
  {
   "cell_type": "code",
   "execution_count": null,
   "id": "4c027c17",
   "metadata": {},
   "outputs": [],
   "source": [
    "from pathlib import Path\n",
    "batch_idx= 0\n",
    "data_path = Path('/home/exx/Documents/equivariant_pose_graph/graph')\n",
    "point_data = np.load(data_path / f'{batch_idx}_sim.npz', allow_pickle = True)\n",
    "sim = point_data['points_colors']\n",
    "print(sim.shape)\n",
    "sim_points = sim[:,:3]\n",
    "sim_colors = sim[:,3:]\n",
    "\n",
    "skip = 1\n",
    "# points_action_dp = toDisplay(points_action)\n",
    "# points_anchor_dp = toDisplay(points_anchor)\n",
    "go_data=[\n",
    "    go.Scatter3d(x=sim_points[::skip,0], y=sim_points[::skip,1], z=sim_points[::skip,2], \n",
    "                 mode='markers', marker=dict(size=1, color=sim_colors,\n",
    "                 symbol='circle')),\n",
    "#     go.Scatter3d(x=points_anchor_dp[::skip,0], y=points_anchor_dp[::skip,1], z=points_anchor_dp[::skip,2], \n",
    "#                  mode='markers', marker=dict(size=1, color=colors[1],\n",
    "#                  symbol='circle')),\n",
    "]\n",
    "layout = go.Layout(\n",
    "    scene=dict(\n",
    "        aspectmode='data'\n",
    "    )\n",
    ")\n",
    "\n",
    "fig = go.Figure(data=go_data, layout=layout)\n",
    "fig.update_layout(#plot_bgcolor='rgb(12,163,135)',\n",
    "                      #paper_bgcolor='rgb(12,163,135)'\n",
    "                      #coloraxis={\"colorbar\": {\"x\": -0.2, \"len\": 0.5, \"y\": 0.8}}, #I think this is for contours\n",
    "                     scene = dict(\n",
    "                                    xaxis = dict(\n",
    "                                         backgroundcolor=\"rgba(0, 0, 0,0)\",\n",
    "                                         gridcolor=\"white\",\n",
    "                                         showbackground=True,\n",
    "                                         zerolinecolor=\"white\",\n",
    "                                        showticklabels = False),\n",
    "                                    yaxis = dict(\n",
    "                                        backgroundcolor=\"rgba(0, 0, 0,0)\",\n",
    "                                        gridcolor=\"white\",\n",
    "                                        showbackground=True,\n",
    "                                        zerolinecolor=\"white\",\n",
    "                                    showticklabels = False),\n",
    "                                    zaxis = dict(\n",
    "                                        backgroundcolor=\"rgba(0, 0, 0,0)\",\n",
    "                                        gridcolor=\"white\",\n",
    "                                        showbackground=True,\n",
    "                                        zerolinecolor=\"white\",\n",
    "                                    showticklabels = False),),\n",
    "                     )\n",
    "fig.show()"
   ]
  },
  {
   "cell_type": "code",
   "execution_count": null,
   "id": "d2048b7f",
   "metadata": {},
   "outputs": [],
   "source": [
    "from pathlib import Path\n",
    "import torch.nn.functional as F\n",
    "from equivariant_pose_graph.utils.se3 import random_se3\n",
    "\n",
    "num_classes = 3\n",
    "data_idx = 8\n",
    "cloud_types = ['init', 'pre_grasp', 'post_grasp', 'teleport', 'post_place', 'final']\n",
    "cloud_type = 'init'\n",
    "data_path = Path('/home/exx/Documents/ndf_robot/train_data_ndf_mug_place_0/renders') \n",
    "# data_path = Path('/home/exx/Documents/ndf_robot/src/ndf_robot/test_grasp_place_demo_10_only_test_ids_upright_seed0_loop5')\n",
    "point_data = np.load(data_path / f'{data_idx}_{cloud_type}_obj_points.npz', allow_pickle = True)\n",
    "print(point_data['shapenet_id'])\n",
    "points_mug, points_rack, points_action_mean = load_data(num_points=1000, point_data=point_data, action_class= 0, anchor_class= 1)\n",
    "# points_mug, points_gripper,points_action_mean = load_data(num_points=1000, point_data=point_data, action_class= 0, anchor_class= 2)\n",
    "points_anchor[:,:,0]+=0.03\n",
    "points_anchor[:,:,-1]-=0.03\n",
    "plot_multi([points_mug, points_rack],[3,0,5] )"
   ]
  },
  {
   "cell_type": "code",
   "execution_count": null,
   "id": "629abbf9",
   "metadata": {},
   "outputs": [],
   "source": [
    "x_action, x_anchor, action_embedding, anchor_embedding  = model.model(points_mug, points_rack)"
   ]
  },
  {
   "cell_type": "code",
   "execution_count": null,
   "id": "a7e523b5",
   "metadata": {},
   "outputs": [],
   "source": [
    "from equivariant_pose_graph.utils.se3 import dualflow2pose\n",
    "pred_flow_action = x_action[:, :, :3]\n",
    "if(x_action .shape[2] > 3):\n",
    "  \n",
    "    pred_w_action = torch.sigmoid(x_action[:, :, 3])\n",
    "      \n",
    "else:\n",
    "    pred_w_action = None\n",
    "\n",
    "pred_flow_anchor = x_anchor[:, :, :3]\n",
    "if(x_anchor .shape[2] > 3):\n",
    "     \n",
    "    pred_w_anchor = torch.sigmoid(x_anchor[:, :, 3])\n",
    "else:\n",
    "    pred_w_anchor = None\n",
    "\n",
    "pred_T_action = dualflow2pose(xyz_src=points_mug, xyz_tgt=points_rack,\n",
    "                              flow_src=pred_flow_action, flow_tgt=pred_flow_anchor,\n",
    "                              weights_src=pred_w_action, weights_tgt=pred_w_anchor,\n",
    "                              return_transform3d=True, normalization_scehme='l1',\n",
    "                              temperature=1)\n",
    "\n",
    "pred_points_action = pred_T_action.transform_points(\n",
    "    points_mug)"
   ]
  },
  {
   "cell_type": "code",
   "execution_count": null,
   "id": "8213d3a9",
   "metadata": {},
   "outputs": [],
   "source": [
    "plot_multi([points_mug, points_rack,pred_points_action],[3,0,5] )"
   ]
  },
  {
   "cell_type": "code",
   "execution_count": null,
   "id": "b062b019",
   "metadata": {},
   "outputs": [],
   "source": [
    "action_emb = action_embedding[0]  # 4,num_points\n",
    "annchor_emb = anchor_embedding[0]  # 4,num_points\n",
    "action_emb = F.normalize(action_emb, dim=0)\n",
    "annchor_emb = F.normalize(annchor_emb, dim=0)\n",
    "color = action_emb[:3].T.detach().cpu().numpy()  # 1024,3\n",
    "color_trans = annchor_emb[:3].T.detach().cpu().numpy()\n",
    "\n",
    "color = 255*(color + 1)/2.\n",
    "color_trans = 255*(color_trans + 1)/2."
   ]
  },
  {
   "cell_type": "code",
   "execution_count": null,
   "id": "3b523bdf",
   "metadata": {},
   "outputs": [],
   "source": [
    "print(color.shape)\n",
    "print(action_emb.shape)"
   ]
  },
  {
   "cell_type": "code",
   "execution_count": null,
   "id": "2c088f51",
   "metadata": {},
   "outputs": [],
   "source": [
    "points_action.shape\n"
   ]
  },
  {
   "cell_type": "code",
   "execution_count": null,
   "id": "dc019a60",
   "metadata": {},
   "outputs": [],
   "source": [
    "t=  pure_translation_se3(1, torch.Tensor([0,-0.4,0]), device=points_action.device)\n",
    "R_x = Rotate(axis_angle_to_matrix(torch.tensor([-1.6,-1.2,0.3])), device=points_action.device)\n",
    "T_acc = T3.compose(R_x).compose(t)\n",
    "plot_multi([T_acc.transform_points(points_action),points_action,points_anchor],idx=[3,3,0])"
   ]
  },
  {
   "cell_type": "code",
   "execution_count": null,
   "id": "3b57c2a5",
   "metadata": {},
   "outputs": [],
   "source": [
    " \n",
    "t1 =  pure_translation_se3(1, torch.Tensor([0,0.4,0]), device=points_action.device)\n",
    "R_x1 = Rotate(axis_angle_to_matrix(torch.tensor([1.2,0.9,0.3])), device=points_action.device)\n",
    "T_acc1 = T2.inverse().compose(R_x1).compose(t1)"
   ]
  },
  {
   "cell_type": "code",
   "execution_count": null,
   "id": "99e2a493",
   "metadata": {},
   "outputs": [],
   "source": [
    "points_action, points_anchor, points_action_mean = load_data(num_points=1000, point_data=point_data, action_class= 1, anchor_class= 0)\n",
    "plot_multi([points_action, T_acc1.transform_points(points_action),points_anchor],idx=[0,0,3])"
   ]
  },
  {
   "cell_type": "code",
   "execution_count": null,
   "id": "4d4587cd",
   "metadata": {},
   "outputs": [],
   "source": [
    "t1 =  pure_translation_se3(1, torch.Tensor([0,0.3,0]), device=points_action.device)\n",
    "R_x1 = Rotate(axis_angle_to_matrix(torch.tensor([0.8,1.2,0])), device=points_action.device)\n",
    "T_acc1 = T2.inverse().compose(R_x1).compose(t1)"
   ]
  },
  {
   "cell_type": "code",
   "execution_count": null,
   "id": "18dc78e9",
   "metadata": {},
   "outputs": [],
   "source": [
    "points_action, points_anchor, points_action_mean = load_data(num_points=1000, point_data=point_data, action_class= 1, anchor_class= 0)\n",
    "plot_multi([T_acc1.transform_points(points_action),points_anchor],idx=[0,3])"
   ]
  },
  {
   "cell_type": "code",
   "execution_count": null,
   "id": "545e7d12",
   "metadata": {},
   "outputs": [],
   "source": [
    "points_action, points_anchor, points_action_mean = load_data(num_points=1000, point_data=point_data, action_class= 1, anchor_class= 0)\n",
    "plot_multi([points_action,T_acc1.transform_points(points_action),points_anchor],idx=[0,0,3])"
   ]
  },
  {
   "cell_type": "code",
   "execution_count": null,
   "id": "6a713d90",
   "metadata": {},
   "outputs": [],
   "source": [
    "plot_multi([T_acc1.transform_points(points_anchor),points_anchor,T_acc1.transform_points(points_action)],idx=[3,3,0])"
   ]
  },
  {
   "cell_type": "code",
   "execution_count": null,
   "id": "6d3ceee8",
   "metadata": {},
   "outputs": [],
   "source": [
    "# points_action, points_anchor, points_action_mean = load_data(num_points=1000, point_data=point_data, action_class= 0, anchor_class= 1)\n",
    "plot_multi([points_action,T_acc1.transform_points(points_anchor),T_acc1.transform_points(points_action)],idx=[0,3,0])"
   ]
  },
  {
   "cell_type": "code",
   "execution_count": null,
   "id": "7e7dd440",
   "metadata": {},
   "outputs": [],
   "source": [
    "plot_multi([T_acc1.transform_points(points_anchor),T_acc1.transform_points(points_action)],idx=[3,0])"
   ]
  },
  {
   "cell_type": "code",
   "execution_count": null,
   "id": "1de7b8d0",
   "metadata": {},
   "outputs": [],
   "source": [
    "T_trans = pure_translation_se3(\n",
    "                1, points_action_mean.squeeze(), device=points_action.device)"
   ]
  },
  {
   "cell_type": "code",
   "execution_count": null,
   "id": "2f6d3007",
   "metadata": {},
   "outputs": [],
   "source": [
    "plot_multi([points_anchor,T_acc.inverse().transform_points(points_anchor),points_action])"
   ]
  },
  {
   "cell_type": "code",
   "execution_count": null,
   "id": "65f9f837",
   "metadata": {},
   "outputs": [],
   "source": [
    "print(T_acc.get_matrix())"
   ]
  },
  {
   "cell_type": "code",
   "execution_count": null,
   "id": "60e1fed9",
   "metadata": {},
   "outputs": [],
   "source": []
  },
  {
   "cell_type": "code",
   "execution_count": null,
   "id": "f3f0bdee",
   "metadata": {},
   "outputs": [],
   "source": [
    "print(T3.get_matrix())"
   ]
  },
  {
   "cell_type": "markdown",
   "id": "cf969597",
   "metadata": {},
   "source": [
    "### points_action_trans = T1.compose(T2).transform_points(points_action)\n",
    "plot_multi([points_action_trans,points_anchor])"
   ]
  },
  {
   "cell_type": "code",
   "execution_count": null,
   "id": "beae46bf",
   "metadata": {},
   "outputs": [],
   "source": [
    "T1_action_mean = T1.transform_points(points_action).mean(1)\n",
    "T1_action_centered = T1.transform_points(points_action)-T1_action_mean\n",
    "points_anchor_centered = points_anchor - T1_action_mean\n",
    "points_action_target = T2.transform_points(T1_action_centered)\n",
    "plot_multi([points_action_target,points_anchor_centered])\n",
    "points_action_final = points_action_target+T1_action_mean\n",
    "points_anchor_final = points_anchor_centered+T1_action_mean"
   ]
  },
  {
   "cell_type": "code",
   "execution_count": null,
   "id": "dc68ccb9",
   "metadata": {},
   "outputs": [],
   "source": [
    "T_trans = pure_translation_se3(\n",
    "                1, T1_action_mean.squeeze(), device=points_action.device)\n",
    "\n",
    "\n",
    "T2_in_points_action_frame = T1.compose(T_trans.inverse().compose(T2.compose(T_trans)))\n",
    "points_action_trans_in_original_frame = T2_in_points_action_frame.transform_points(points_action)\n",
    "plot_multi([points_action_trans_in_original_frame, points_anchor])"
   ]
  },
  {
   "cell_type": "code",
   "execution_count": null,
   "id": "bff12141",
   "metadata": {},
   "outputs": [],
   "source": [
    "plot_multi([points_action_final,points_action_trans_in_original_frame, points_anchor,points_anchor_final])"
   ]
  },
  {
   "cell_type": "code",
   "execution_count": null,
   "id": "e91cbec9",
   "metadata": {},
   "outputs": [],
   "source": [
    "plot_multi([points_action_trans_in_original_frame, points_anchor,points_action_target,points_anchor_centered])"
   ]
  },
  {
   "cell_type": "code",
   "execution_count": null,
   "id": "9b34875b",
   "metadata": {},
   "outputs": [],
   "source": [
    "plot_multi([points_action_target,points_anchor_centered,points_action_trans,points_anchor])"
   ]
  },
  {
   "cell_type": "code",
   "execution_count": null,
   "id": "d6c6ffe6",
   "metadata": {},
   "outputs": [],
   "source": [
    "T1.transform_points(points_action).shape"
   ]
  },
  {
   "cell_type": "code",
   "execution_count": null,
   "id": "b8a7fc5c",
   "metadata": {},
   "outputs": [],
   "source": [
    "T_applied_once = T1.compose()"
   ]
  },
  {
   "cell_type": "code",
   "execution_count": null,
   "id": "f75d1e25",
   "metadata": {},
   "outputs": [],
   "source": [
    "num_classes = 3\n",
    "data_idx = 0\n",
    "cloud_types = ['init', 'pre_grasp', 'post_grasp', 'teleport', 'post_place', 'final']\n",
    "cloud_type = 'teleport'\n",
    "data_path = Path('/home/exx/Documents/ndf_robot/src/ndf_robot/heyo1') \n",
    "point_data = np.load(data_path / f'{data_idx}_{cloud_type}_obj_points.npz', allow_pickle = True)\n",
    "# print(point_data['shapenet_id'])\n",
    "points_action14, points_anchor = load_data(num_points=1000, point_data=point_data, action_class= 0, anchor_class= 1)\n",
    " \n",
    "plot_multi([points_action14,points_anchor])\n",
    "\n",
    "pred_T_action_transformed = load_data2(num_points=1000, point_data=point_data, action_class= 0, anchor_class= 1)\n",
    " \n",
    " "
   ]
  },
  {
   "cell_type": "code",
   "execution_count": null,
   "id": "36c7ba4e",
   "metadata": {},
   "outputs": [],
   "source": []
  },
  {
   "cell_type": "code",
   "execution_count": null,
   "id": "3334199c",
   "metadata": {},
   "outputs": [],
   "source": [
    "from pathlib import Path\n",
    "import torch.nn.functional as F\n",
    "from equivariant_pose_graph.utils.se3 import random_se3\n",
    "\n",
    "num_classes = 3\n",
    "data_idx = 0\n",
    "cloud_types = ['init', 'pre_grasp', 'post_grasp', 'teleport', 'post_place', 'final']\n",
    "cloud_type = 'teleport'\n",
    "data_path = Path('/home/exx/Documents/ndf_robot/src/ndf_robot/newtest5') \n",
    "point_data = np.load(data_path / f'{data_idx}_{cloud_type}_obj_points.npz', allow_pickle = True)\n",
    "# print(point_data['shapenet_id'])\n",
    "points_action5, points_anchor = load_data(num_points=1000, point_data=point_data, action_class= 0, anchor_class= 1)\n",
    "pred_T_action_transformed = load_data2(num_points=1000, point_data=point_data, action_class= 0, anchor_class= 1)\n",
    " \n",
    "# pred_T_action_transformed = torch.from_numpy(point_data[\"pred_T_action_transformed\"]).cuda()-point_data[\"pred_T_action_transformed\"]\n",
    "# print(pred_T_action_transformed.shape)\n",
    "# pred_T_action_transformed[:,:,[0,1]] = pred_T_action_transformed[:,:,[1,0]]\n",
    "plot_multi([points_action5,points_anchor,pred_T_action_transformed])\n",
    " "
   ]
  },
  {
   "cell_type": "code",
   "execution_count": null,
   "id": "561b53a0",
   "metadata": {},
   "outputs": [],
   "source": []
  },
  {
   "cell_type": "code",
   "execution_count": null,
   "id": "08edac7f",
   "metadata": {},
   "outputs": [],
   "source": [
    "num_classes = 3\n",
    "data_idx = 0\n",
    "cloud_types = ['init', 'pre_grasp', 'post_grasp', 'teleport', 'post_place', 'final']\n",
    "cloud_type = 'init'\n",
    "data_path = Path('/home/exx/Documents/ndf_robot/src/ndf_robot/newtest3') \n",
    "point_data = np.load(data_path / f'{data_idx}_{cloud_type}_obj_points.npz', allow_pickle = True)\n",
    "pred_T_action_transformed_pybullet = torch.from_numpy(point_data[\"pred_T_action_transformed\"]).cuda()\n",
    "pred_T_action_mat = point_data[\"pred_T_action_mat\"]\n",
    "points_action_pybullet =torch.from_numpy(point_data[\"points_action\"]).cuda()\n",
    "points_anchor_pybullet = torch.from_numpy(point_data[\"points_anchor\"]).cuda()\n",
    "points_action_init, points_anchor = load_data(num_points=1000, point_data=point_data, action_class= 0, anchor_class= 1)\n",
    "plot_multi([pred_T_action_transformed_pybullet,points_anchor_pybullet,points_action_pybullet])"
   ]
  },
  {
   "cell_type": "code",
   "execution_count": null,
   "id": "99ed9263",
   "metadata": {},
   "outputs": [],
   "source": [
    "num_classes = 3\n",
    "data_idx = 0\n",
    "cloud_types = ['init', 'pre_grasp', 'post_grasp', 'teleport', 'post_place', 'final']\n",
    "cloud_type = 'teleport'\n",
    "data_path = Path('/home/exx/Documents/ndf_robot/src/ndf_robot/newtest3') \n",
    "point_data = np.load(data_path / f'{data_idx}_{cloud_type}_obj_points.npz', allow_pickle = True)\n",
    "points_action_action3, points_anchor = load_data(num_points=1000, point_data=point_data, action_class= 0, anchor_class= 1)\n",
    "# points_action_init[:,:,1]*=-1\n",
    "# points_anchor[:,:,1]*=-1\n",
    "# points_action_init[:,:,[1,2]]=points_action_init[:,:,[2,1]]\n",
    "# points_anchor[:,:,[1,2]]=points_anchor[:,:,[2,1]]\n",
    "# print(pred_T_action_mat)\n",
    "# pred_T_action_mat[[1,2]] = pred_T_action_mat[[2,1]]\n",
    "# print(pred_T_action_mat)\n",
    "# pred_T_action_mat[:3,-1]=pred_T_action_mat[:3,:3].T@pred_T_action_mat[:3,-1]+ pred_T_action_mat[:3,-1]\n",
    "# print(pred_T_action_mat)\n",
    "\n",
    "apply_here_xyz = transform(pred_T_action_mat, xyz2homo(points_action_init))\n",
    "plot_multi([apply_here_xyz,points_anchor, points_action_init,points_action_action3])"
   ]
  },
  {
   "cell_type": "code",
   "execution_count": null,
   "id": "716cecfe",
   "metadata": {},
   "outputs": [],
   "source": [
    "ans = model.get_transform(\n",
    "    points_action_init, points_anchor)  # 1, 4, 4\n",
    "pred_T_action_init = ans[\"pred_T_action\"]"
   ]
  },
  {
   "cell_type": "code",
   "execution_count": null,
   "id": "aa11b06c",
   "metadata": {},
   "outputs": [],
   "source": [
    "pred_T_action_transformed = pred_T_action_init.transform_points(\n",
    "    points_action_init)\n",
    "plot_multi([pred_T_action_transformed,points_anchor, points_action_init])"
   ]
  },
  {
   "cell_type": "code",
   "execution_count": null,
   "id": "4ef942bb",
   "metadata": {},
   "outputs": [],
   "source": [
    "pred_T_action_mat = pred_T_action_init.get_matrix()[0].T.detach().cpu().numpy()\n",
    "apply_here_xyz = transform(pred_T_action_mat, xyz2homo(points_action_init))\n",
    "plot_multi([apply_here_xyz,points_anchor, points_action_init])"
   ]
  },
  {
   "cell_type": "code",
   "execution_count": null,
   "id": "67d11b1d",
   "metadata": {},
   "outputs": [],
   "source": [
    "plot_multi([points_action0,points_anchor,points_action1,points_action3,points_action4,points_action5, points_action7])"
   ]
  },
  {
   "cell_type": "code",
   "execution_count": null,
   "id": "6331152a",
   "metadata": {},
   "outputs": [],
   "source": [
    "plot_multi([points_action3,points_anchor,points_action4,points_action5])"
   ]
  },
  {
   "cell_type": "code",
   "execution_count": null,
   "id": "ebd6dc78",
   "metadata": {},
   "outputs": [],
   "source": [
    "stop"
   ]
  },
  {
   "cell_type": "code",
   "execution_count": null,
   "id": "8c38555f",
   "metadata": {},
   "outputs": [],
   "source": [
    "plot(points_action, points_anchor)"
   ]
  },
  {
   "cell_type": "code",
   "execution_count": null,
   "id": "cf2676ef",
   "metadata": {},
   "outputs": [],
   "source": [
    "plot(pred_T_action_points_action, points_anchor)"
   ]
  },
  {
   "cell_type": "code",
   "execution_count": null,
   "id": "6d44aa89",
   "metadata": {},
   "outputs": [],
   "source": [
    "# Load Teleport\n",
    "from pathlib import Path\n",
    "import torch.nn.functional as F\n",
    "from equivariant_pose_graph.utils.se3 import random_se3\n",
    "\n",
    "num_classes = 3\n",
    "cloud_types = ['init', 'pre_grasp', 'post_grasp', 'teleport', 'post_place', 'final']\n",
    "cloud_type = 'teleport'\n",
    "# data_path = Path('/home/bokorn/src/ndf_robot/notebooks')\n",
    "# point_data = np.load(data_path / f'{data_idx}_obj_points.npz')\n",
    "# data_path = Path('/home/exx/Documents/ndf_robot/train_new_data_3/renders')\n",
    "# data_path = Path('/home/exx/Documents/ndf_robot/src/ndf_robot/debug_place_shapeid_34ae0b61b0d8aaf2d7b20fded0142d7a') \n",
    "data_path = Path('/home/exx/Documents/ndf_robot/src/ndf_robot/place_test_0_my_model_may10_overfit') \n",
    "point_data = np.load(data_path / f'{data_idx}_{cloud_type}_obj_points.npz', allow_pickle = True)\n",
    "print(point_data['shapenet_id'])\n",
    "points_action, points_anchor = load_data(num_points=1024, clouds = point_data['clouds'] ,classes = point_data['classes'], action_class= 0, anchor_class= 1)\n",
    " \n",
    "points_action_trans = points_action\n",
    "points_anchor_trans = points_anchor\n",
    "pred_T_action, pred_T_anchor, pred_T  = place_model(points_action_trans, points_anchor_trans)\n",
    " \n",
    "pred_T_action_points_action = pred_T_action.transform_points(points_action_trans)\n",
    "pred_T_action_points_anchor = pred_T_anchor.transform_points(points_anchor_trans)\n",
    "plot(points_action, points_anchor)\n",
    " \n",
    "for i in range(20):\n",
    "    pred_T_action, pred_T_anchor, pred_T  = place_model(pred_T_action_points_action, points_anchor)\n",
    "    pred_T_action_points_action = pred_T_action.transform_points(pred_T_action_points_action)\n",
    "    \n",
    "    torch.cuda.empty_cache() \n",
    "plot(pred_T_action_points_action, points_anchor)"
   ]
  },
  {
   "cell_type": "code",
   "execution_count": null,
   "id": "e409d523",
   "metadata": {},
   "outputs": [],
   "source": []
  },
  {
   "cell_type": "code",
   "execution_count": null,
   "id": "092a741f",
   "metadata": {},
   "outputs": [],
   "source": []
  },
  {
   "cell_type": "code",
   "execution_count": null,
   "id": "e0dd3c91",
   "metadata": {},
   "outputs": [],
   "source": []
  },
  {
   "cell_type": "code",
   "execution_count": null,
   "id": "74dcd5cc",
   "metadata": {},
   "outputs": [],
   "source": []
  },
  {
   "cell_type": "code",
   "execution_count": null,
   "id": "1de74285",
   "metadata": {},
   "outputs": [],
   "source": []
  },
  {
   "cell_type": "code",
   "execution_count": null,
   "id": "855fca7c",
   "metadata": {},
   "outputs": [],
   "source": []
  }
 ],
 "metadata": {
  "kernelspec": {
   "display_name": "ndf_new",
   "language": "python",
   "name": "ndf_new"
  },
  "language_info": {
   "codemirror_mode": {
    "name": "ipython",
    "version": 3
   },
   "file_extension": ".py",
   "mimetype": "text/x-python",
   "name": "python",
   "nbconvert_exporter": "python",
   "pygments_lexer": "ipython3",
   "version": "3.7.13"
  }
 },
 "nbformat": 4,
 "nbformat_minor": 5
}
